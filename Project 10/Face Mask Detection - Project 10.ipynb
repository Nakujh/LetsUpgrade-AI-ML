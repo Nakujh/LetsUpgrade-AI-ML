{
 "cells": [
  {
   "cell_type": "markdown",
   "id": "616b242c",
   "metadata": {},
   "source": [
    "# The Dataset\n",
    "\n",
    "The dataset consisted of 1376 images, 690 face images with masks and 686 without masks. The original dataset is prepared by [Prajna Bhandary](https://www.linkedin.com/in/prajna-bhandary-0b03a416a/) and available at [Github](https://github.com/prajnasb/observations/tree/master/experiements/data)"
   ]
  },
  {
   "cell_type": "markdown",
   "id": "388f46cf",
   "metadata": {},
   "source": [
    "# Data Preprocessing"
   ]
  },
  {
   "cell_type": "code",
   "execution_count": 1,
   "id": "b58ad1f1",
   "metadata": {},
   "outputs": [
    {
     "name": "stdout",
     "output_type": "stream",
     "text": [
      "{'without_mask': 0, 'with_mask': 1}\n",
      "['without_mask', 'with_mask']\n",
      "[0, 1]\n"
     ]
    }
   ],
   "source": [
    "import cv2, os\n",
    "\n",
    "data_path = 'C:/Users/NJ185051/Downloads/LetsUpgrade/AIML/Project 10/data/train'\n",
    "categories = os.listdir(data_path)\n",
    "labels = [i for i in range(len(categories))]\n",
    "\n",
    "# empty dictionary\n",
    "label_dict = dict(zip(categories, labels))\n",
    "\n",
    "print(label_dict)\n",
    "print(categories)\n",
    "print(labels)"
   ]
  },
  {
   "cell_type": "code",
   "execution_count": 2,
   "id": "0df6dc8b",
   "metadata": {},
   "outputs": [],
   "source": [
    "img_size=100\n",
    "data=[]\n",
    "target=[]\n",
    "\n",
    "\n",
    "for category in categories:\n",
    "    folder_path=os.path.join(data_path,category)\n",
    "    img_names=os.listdir(folder_path)\n",
    "        \n",
    "    for img_name in img_names:\n",
    "        img_path=os.path.join(folder_path,img_name)\n",
    "        img=cv2.imread(img_path)\n",
    "\n",
    "        try:\n",
    "            gray=cv2.cvtColor(img,cv2.COLOR_BGR2GRAY)           \n",
    "            #Coverting the image into gray scale\n",
    "            resized=cv2.resize(gray,(img_size,img_size))\n",
    "            #resizing the gray scale into 50x50, since we need a fixed common size for all the images in the dataset\n",
    "            data.append(resized)\n",
    "            target.append(label_dict[category])\n",
    "            #appending the image and the label(categorized) into the list (dataset)\n",
    "\n",
    "        except Exception as e:\n",
    "            print('Exception:',e)\n",
    "            #if any exception rasied, the exception will be printed here. And pass to the next image"
   ]
  },
  {
   "cell_type": "code",
   "execution_count": 3,
   "id": "83ce22d0",
   "metadata": {},
   "outputs": [],
   "source": [
    "import numpy as np\n",
    "\n",
    "data=np.array(data)/255.0\n",
    "data=np.reshape(data,(data.shape[0],img_size,img_size,1))\n",
    "target=np.array(target)\n",
    "\n",
    "from keras.utils import np_utils\n",
    "\n",
    "new_target=np_utils.to_categorical(target)"
   ]
  },
  {
   "cell_type": "code",
   "execution_count": 4,
   "id": "556cb086",
   "metadata": {},
   "outputs": [],
   "source": [
    "np.save('C:/Users/NJ185051/Downloads/LetsUpgrade/AIML/Project 10/data',data)\n",
    "np.save('C:/Users/NJ185051/Downloads/LetsUpgrade/AIML/Project 10/target',new_target)"
   ]
  },
  {
   "cell_type": "markdown",
   "id": "69fe1746",
   "metadata": {},
   "source": [
    "# CNN Architecture"
   ]
  },
  {
   "cell_type": "code",
   "execution_count": 5,
   "id": "c662d410",
   "metadata": {},
   "outputs": [],
   "source": [
    "import numpy as np\n",
    "\n",
    "data=np.load('C:/Users/NJ185051/Downloads/LetsUpgrade/AIML/Project 10/data.npy')\n",
    "target=np.load('C:/Users/NJ185051/Downloads/LetsUpgrade/AIML/Project 10/target.npy')\n",
    "\n",
    "#loading the saved numpy arrays"
   ]
  },
  {
   "cell_type": "code",
   "execution_count": 6,
   "id": "43faa4a2",
   "metadata": {},
   "outputs": [],
   "source": [
    "from keras.models import Sequential\n",
    "from keras.layers import Dense,Activation,Flatten,Dropout\n",
    "from keras.layers import Conv2D,MaxPooling2D\n",
    "from keras.callbacks import ModelCheckpoint\n",
    "\n",
    "model=Sequential()\n",
    "\n",
    "model.add(Conv2D(200,(3,3),input_shape=data.shape[1:]))\n",
    "model.add(Activation('relu'))\n",
    "model.add(MaxPooling2D(pool_size=(2,2)))\n",
    "#The first CNN layer followed by Relu and MaxPooling layers\n",
    "\n",
    "model.add(Conv2D(100,(3,3)))\n",
    "model.add(Activation('relu'))\n",
    "model.add(MaxPooling2D(pool_size=(2,2)))\n",
    "#The second convolution layer followed by Relu and MaxPooling layers\n",
    "\n",
    "model.add(Flatten())\n",
    "model.add(Dropout(0.5))\n",
    "#Flatten layer to stack the output convolutions from second convolution layer\n",
    "model.add(Dense(50,activation='relu'))\n",
    "#Dense layer of 64 neurons\n",
    "model.add(Dense(2,activation='softmax'))\n",
    "#The Final layer with two outputs for two categories\n",
    "\n",
    "model.compile(loss='categorical_crossentropy',optimizer='adam',metrics=['accuracy'])"
   ]
  },
  {
   "cell_type": "code",
   "execution_count": 7,
   "id": "febe75e9",
   "metadata": {},
   "outputs": [],
   "source": [
    "from sklearn.model_selection import train_test_split\n",
    "\n",
    "train_data,test_data,train_target,test_target=train_test_split(data,target,test_size=0.1)"
   ]
  },
  {
   "cell_type": "code",
   "execution_count": 8,
   "id": "2da9fd40",
   "metadata": {},
   "outputs": [
    {
     "name": "stdout",
     "output_type": "stream",
     "text": [
      "Epoch 1/20\n",
      "30/30 [==============================] - 47s 1s/step - loss: 0.7789 - accuracy: 0.4971 - val_loss: 0.6843 - val_accuracy: 0.5021\n",
      "INFO:tensorflow:Assets written to: model-001.model\\assets\n",
      "Epoch 2/20\n",
      "30/30 [==============================] - 35s 1s/step - loss: 0.6718 - accuracy: 0.5498 - val_loss: 0.6335 - val_accuracy: 0.6160\n",
      "INFO:tensorflow:Assets written to: model-002.model\\assets\n",
      "Epoch 3/20\n",
      "30/30 [==============================] - 35s 1s/step - loss: 0.5338 - accuracy: 0.7338 - val_loss: 0.5040 - val_accuracy: 0.7511\n",
      "INFO:tensorflow:Assets written to: model-003.model\\assets\n",
      "Epoch 4/20\n",
      "30/30 [==============================] - 42s 1s/step - loss: 0.3550 - accuracy: 0.8567 - val_loss: 0.4007 - val_accuracy: 0.8186\n",
      "INFO:tensorflow:Assets written to: model-004.model\\assets\n",
      "Epoch 5/20\n",
      "30/30 [==============================] - 55s 2s/step - loss: 0.2656 - accuracy: 0.8944 - val_loss: 0.3086 - val_accuracy: 0.8776\n",
      "INFO:tensorflow:Assets written to: model-005.model\\assets\n",
      "Epoch 6/20\n",
      "30/30 [==============================] - 51s 2s/step - loss: 0.2084 - accuracy: 0.9260 - val_loss: 0.4903 - val_accuracy: 0.7932\n",
      "Epoch 7/20\n",
      "30/30 [==============================] - 46s 2s/step - loss: 0.2157 - accuracy: 0.9170 - val_loss: 0.2643 - val_accuracy: 0.9114\n",
      "INFO:tensorflow:Assets written to: model-007.model\\assets\n",
      "Epoch 8/20\n",
      "30/30 [==============================] - 48s 2s/step - loss: 0.1694 - accuracy: 0.9297 - val_loss: 0.3059 - val_accuracy: 0.8734\n",
      "Epoch 9/20\n",
      "30/30 [==============================] - 47s 2s/step - loss: 0.1414 - accuracy: 0.9452 - val_loss: 0.2457 - val_accuracy: 0.9156\n",
      "INFO:tensorflow:Assets written to: model-009.model\\assets\n",
      "Epoch 10/20\n",
      "30/30 [==============================] - 47s 2s/step - loss: 0.0881 - accuracy: 0.9661 - val_loss: 0.2377 - val_accuracy: 0.9241\n",
      "INFO:tensorflow:Assets written to: model-010.model\\assets\n",
      "Epoch 11/20\n",
      "30/30 [==============================] - 47s 2s/step - loss: 0.0954 - accuracy: 0.9688 - val_loss: 0.3405 - val_accuracy: 0.9030\n",
      "Epoch 12/20\n",
      "30/30 [==============================] - 47s 2s/step - loss: 0.0862 - accuracy: 0.9671 - val_loss: 0.2487 - val_accuracy: 0.9156\n",
      "Epoch 13/20\n",
      "30/30 [==============================] - 47s 2s/step - loss: 0.0680 - accuracy: 0.9738 - val_loss: 0.2516 - val_accuracy: 0.8987\n",
      "Epoch 14/20\n",
      "30/30 [==============================] - 48s 2s/step - loss: 0.0677 - accuracy: 0.9748 - val_loss: 0.2137 - val_accuracy: 0.9283\n",
      "INFO:tensorflow:Assets written to: model-014.model\\assets\n",
      "Epoch 15/20\n",
      "30/30 [==============================] - 48s 2s/step - loss: 0.0496 - accuracy: 0.9842 - val_loss: 0.2745 - val_accuracy: 0.9198\n",
      "Epoch 16/20\n",
      "30/30 [==============================] - 47s 2s/step - loss: 0.0663 - accuracy: 0.9782 - val_loss: 0.2823 - val_accuracy: 0.9241\n",
      "Epoch 17/20\n",
      "30/30 [==============================] - 47s 2s/step - loss: 0.0548 - accuracy: 0.9831 - val_loss: 0.2769 - val_accuracy: 0.9367\n",
      "Epoch 18/20\n",
      "30/30 [==============================] - 49s 2s/step - loss: 0.0391 - accuracy: 0.9874 - val_loss: 0.2686 - val_accuracy: 0.9156\n",
      "Epoch 19/20\n",
      "30/30 [==============================] - 48s 2s/step - loss: 0.0575 - accuracy: 0.9749 - val_loss: 0.2937 - val_accuracy: 0.9072\n",
      "Epoch 20/20\n",
      "30/30 [==============================] - 45s 2s/step - loss: 0.0657 - accuracy: 0.9823 - val_loss: 0.2573 - val_accuracy: 0.9114\n"
     ]
    }
   ],
   "source": [
    "checkpoint = ModelCheckpoint('model-{epoch:03d}.model',monitor='val_loss',verbose=0,save_best_only=True,mode='auto')\n",
    "history=model.fit(train_data,train_target,epochs=20,callbacks=[checkpoint],validation_split=0.2)"
   ]
  },
  {
   "cell_type": "code",
   "execution_count": 9,
   "id": "a8ae69e9",
   "metadata": {},
   "outputs": [
    {
     "data": {
      "image/png": "[encoded data removed]",
      "text/plain": [
       "<Figure size 432x288 with 1 Axes>"
      ]
     },
     "metadata": {
      "needs_background": "light"
     },
     "output_type": "display_data"
    }
   ],
   "source": [
    "from matplotlib import pyplot as plt\n",
    "\n",
    "plt.plot(history.history['loss'],'r',label='training loss')\n",
    "plt.plot(history.history['val_loss'],label='validation loss')\n",
    "plt.xlabel('# epochs')\n",
    "plt.ylabel('loss')\n",
    "plt.legend()\n",
    "plt.show()"
   ]
  },
  {
   "cell_type": "code",
   "execution_count": 10,
   "id": "3d8e30d2",
   "metadata": {},
   "outputs": [
    {
     "data": {
      "image/png": "[encoded data removed]",
      "text/plain": [
       "<Figure size 432x288 with 1 Axes>"
      ]
     },
     "metadata": {
      "needs_background": "light"
     },
     "output_type": "display_data"
    }
   ],
   "source": [
    "plt.plot(history.history['accuracy'],'r',label='training accuracy')\n",
    "plt.plot(history.history['val_accuracy'],label='validation accuracy')\n",
    "plt.xlabel('# epochs')\n",
    "plt.ylabel('loss')\n",
    "plt.legend()\n",
    "plt.show()"
   ]
  },
  {
   "cell_type": "code",
   "execution_count": 11,
   "id": "767e104d",
   "metadata": {},
   "outputs": [
    {
     "name": "stdout",
     "output_type": "stream",
     "text": [
      "5/5 [==============================] - 2s 307ms/step - loss: 0.2731 - accuracy: 0.9470\n",
      "[0.273066908121109, 0.9469696879386902]\n"
     ]
    }
   ],
   "source": [
    "print(model.evaluate(test_data,test_target))"
   ]
  },
  {
   "cell_type": "markdown",
   "id": "1ef8dec1",
   "metadata": {},
   "source": [
    "# Detecting faces with and without masks"
   ]
  },
  {
   "cell_type": "code",
   "execution_count": 12,
   "id": "2080ebb0",
   "metadata": {},
   "outputs": [],
   "source": [
    "from keras.models import load_model\n",
    "import cv2\n",
    "import numpy as np"
   ]
  },
  {
   "cell_type": "code",
   "execution_count": 13,
   "id": "50900a75",
   "metadata": {},
   "outputs": [],
   "source": [
    "model = load_model('model-007.model')\n",
    "\n",
    "face_clsfr=cv2.CascadeClassifier('C:/Users/NJ185051/Downloads/LetsUpgrade/AIML/Project 10/haarcascade_frontalface_default.xml')\n",
    "\n",
    "#source=cv2.VideoCapture(0)\n",
    "\n",
    "labels_dict={0:'NO MASK',1:'MASK'}\n",
    "color_dict={0:(0,0,255),1:(0,255,0)}"
   ]
  },
  {
   "cell_type": "code",
   "execution_count": 14,
   "id": "983a062a",
   "metadata": {},
   "outputs": [],
   "source": [
    "while (True):\n",
    "    #ret, img = source.read()\n",
    "    #img  = cv2.imread('C:/Users/NJ185051/Downloads/LetsUpgrade/AIML/Project 10/10.jpg', cv2.IMREAD_COLOR)\n",
    "    img  = cv2.imread('C:/Users/NJ185051/Downloads/LetsUpgrade/AIML/Project 10/11-with-mask.jpg', cv2.IMREAD_COLOR)\n",
    "    gray = cv2.cvtColor(img, cv2.COLOR_BGR2GRAY)\n",
    "    # gray=cv2.cvtColor(img,cv2.COLOR_BGR2GRAY)\n",
    "    faces = face_clsfr.detectMultiScale(gray, 1.3, 5)\n",
    "\n",
    "    for (x, y, w, h) in faces:\n",
    "        face_img = gray[y:y + w, x:x + w]\n",
    "        resized = cv2.resize(face_img, (100, 100))\n",
    "        normalized = resized / 255.0\n",
    "        reshaped = np.reshape(normalized, (1, 100, 100, 1))\n",
    "        result = model.predict(reshaped)\n",
    "\n",
    "        label = np.argmax(result, axis=1)[0]\n",
    "\n",
    "        cv2.rectangle(img, (x, y), (x + w, y + h), color_dict[label], 2)\n",
    "        cv2.rectangle(img, (x, y - 40), (x + w, y), color_dict[label], -1)\n",
    "        cv2.putText(img, labels_dict[label], (x, y - 10), cv2.FONT_HERSHEY_SIMPLEX, 0.8, (255, 255, 255), 2)\n",
    "\n",
    "    cv2.imshow('LIVE', img)\n",
    "    key = cv2.waitKey(1)\n",
    "\n",
    "    if (key == 27):\n",
    "        break\n",
    "\n",
    "cv2.destroyAllWindows()\n",
    "#source.release()"
   ]
  },
  {
   "cell_type": "code",
   "execution_count": null,
   "id": "f50faf22",
   "metadata": {},
   "outputs": [],
   "source": []
  }
 ],
 "metadata": {
  "kernelspec": {
   "display_name": "Python 3",
   "language": "python",
   "name": "python3"
  },
  "language_info": {
   "codemirror_mode": {
    "name": "ipython",
    "version": 3
   },
   "file_extension": ".py",
   "mimetype": "text/x-python",
   "name": "python",
   "nbconvert_exporter": "python",
   "pygments_lexer": "ipython3",
   "version": "3.9.2"
  }
 },
 "nbformat": 4,
 "nbformat_minor": 5
}
