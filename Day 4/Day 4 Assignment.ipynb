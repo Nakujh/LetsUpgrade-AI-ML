{
 "cells": [
  {
   "cell_type": "markdown",
   "metadata": {},
   "source": [
    "### 1. Demonstration of arithmetic operations on complex numbers"
   ]
  },
  {
   "cell_type": "code",
   "execution_count": 1,
   "metadata": {},
   "outputs": [
    {
     "name": "stdout",
     "output_type": "stream",
     "text": [
      "Addition of complex numbers (4+5j) and (6+7j) : (10+12j)\n",
      "Subtraction of complex numbers (4+5j) and (6+7j) : (-2-2j)\n",
      "Multiplication of complex numbers (4+5j) and (6+7j) : (-11+58j)\n",
      "Division of complex numbers (4+5j) and (6+7j) : (0.6941176470588236+0.02352941176470587j)\n"
     ]
    }
   ],
   "source": [
    "# Initialising complex variables\n",
    "cnVariableOne = 4+5j\n",
    "cnVariableTwo = 6+7j\n",
    "\n",
    "# Addition of complex numbers\n",
    "cnSum = cnVariableOne + cnVariableTwo\n",
    "\n",
    "# Subtraction of complex numbers\n",
    "cnDifference = cnVariableOne - cnVariableTwo \n",
    "\n",
    "# Multiplication of complex numbers\n",
    "cnProduct = cnVariableOne * cnVariableTwo \n",
    "\n",
    "# Division of complex numbers\n",
    "cnDivide = cnVariableOne / cnVariableTwo\n",
    "\n",
    "print(\"Addition of complex numbers\", cnVariableOne,\"and\", cnVariableTwo,\":\", cnSum)\n",
    "print(\"Subtraction of complex numbers\", cnVariableOne,\"and\", cnVariableTwo,\":\", cnDifference)\n",
    "print(\"Multiplication of complex numbers\", cnVariableOne,\"and\", cnVariableTwo,\":\", cnProduct)\n",
    "print(\"Division of complex numbers\", cnVariableOne,\"and\", cnVariableTwo,\":\", cnDivide)"
   ]
  },
  {
   "cell_type": "markdown",
   "metadata": {},
   "source": [
    ">#### Floor division and modulo operations cannot be performed on compex numbers"
   ]
  },
  {
   "cell_type": "markdown",
   "metadata": {},
   "source": [
    "### 2. Demonstration of \"range\" function"
   ]
  },
  {
   "cell_type": "markdown",
   "metadata": {},
   "source": [
    " - **range** is an in-built function of Python.\n",
    " - Syntax: *range*(*start*\\*, *stop*\\*\\*, *step*\\*)\n",
    "     - *start (optional)*: Default value = 0\n",
    "     - *step (optional)*: Default value = 1  \n",
    "     \\* Optional;\n",
    "     \\*\\* Mandatory  \n",
    " - It is used to generate a sequence of numbers.\n",
    " - The sequence begins at *start* and will end at *stop*.\n",
    " - Another parameter *step* can be provided to this function. The first number will be increamented by *step* to generate the next number and so on i.e., the difference between any two adjacent numbers in the sequence will be equal to *step*."
   ]
  },
  {
   "cell_type": "code",
   "execution_count": 2,
   "metadata": {},
   "outputs": [
    {
     "name": "stdout",
     "output_type": "stream",
     "text": [
      "Odd numbers between 0 and 99:\n",
      "1\n",
      "3\n",
      "5\n",
      "7\n",
      "9\n",
      "11\n",
      "13\n",
      "15\n",
      "17\n",
      "19\n",
      "21\n",
      "23\n",
      "25\n",
      "27\n",
      "29\n",
      "31\n",
      "33\n",
      "35\n",
      "37\n",
      "39\n",
      "41\n",
      "43\n",
      "45\n",
      "47\n",
      "49\n",
      "51\n",
      "53\n",
      "55\n",
      "57\n",
      "59\n",
      "61\n",
      "63\n",
      "65\n",
      "67\n",
      "69\n",
      "71\n",
      "73\n",
      "75\n",
      "77\n",
      "79\n",
      "81\n",
      "83\n",
      "85\n",
      "87\n",
      "89\n",
      "91\n",
      "93\n",
      "95\n",
      "97\n",
      "99\n"
     ]
    }
   ],
   "source": [
    "# To determine all odd numbers between 0 and 99\n",
    "print(\"Odd numbers between 0 and 99:\")\n",
    "for i in range(100):\n",
    "    if (i%2) != 0:\n",
    "        print(i)"
   ]
  },
  {
   "cell_type": "markdown",
   "metadata": {},
   "source": [
    "### 3. Consider two numbers. Perform their subtraction and if the result of subtraction is greater than 25, print their multiplication result else print their division result."
   ]
  },
  {
   "cell_type": "code",
   "execution_count": 3,
   "metadata": {},
   "outputs": [
    {
     "name": "stdout",
     "output_type": "stream",
     "text": [
      "Difference of 100 and 25 : 75\n",
      "Is greater than 25: True\n",
      "Multiplication Result: 2500\n"
     ]
    }
   ],
   "source": [
    "# Initialising two variables\n",
    "iMinuend = 100\n",
    "iSubtrahend = 25\n",
    "\n",
    "# Calculating difference of above variables\n",
    "iDifference = iMinuend - iSubtrahend\n",
    "print(\"Difference of\", iMinuend, \"and\", iSubtrahend, \":\", iDifference)\n",
    "print(\"Is greater than 25:\", (iDifference>25))\n",
    "\n",
    "if iDifference > 25:\n",
    "    iProduct = iMinuend * iSubtrahend\n",
    "    print(\"Multiplication Result:\", iProduct)\n",
    "else:\n",
    "    iDivide = iMinuend / iSubtrahend\n",
    "    print(\"Division Result:\", iDivide)"
   ]
  },
  {
   "cell_type": "markdown",
   "metadata": {},
   "source": [
    "### 4. Consider a list of 10 elements of integer values. If the number in the list is divisible by 2, print the result as \"square of that number minus 2\"."
   ]
  },
  {
   "cell_type": "code",
   "execution_count": 4,
   "metadata": {},
   "outputs": [
    {
     "name": "stdout",
     "output_type": "stream",
     "text": [
      "100 is divisible by 2\n",
      "Result = 9998\n",
      "98 is divisible by 2\n",
      "Result = 9602\n",
      "97 is not divisible by 2\n",
      "95 is not divisible by 2\n",
      "451 is not divisible by 2\n",
      "600 is divisible by 2\n",
      "Result = 359998\n",
      "789 is not divisible by 2\n",
      "800 is divisible by 2\n",
      "Result = 639998\n",
      "955 is not divisible by 2\n",
      "1000 is divisible by 2\n",
      "Result = 999998\n"
     ]
    }
   ],
   "source": [
    "# Initialising list\n",
    "lstIntegerElements = [100, 98, 97, 95, 451, 600, 789, 800, 955, 1000]\n",
    "\n",
    "# To determine if the numbers in the list are divisible by 2\n",
    "for iListElement in lstIntegerElements:\n",
    "    if (iListElement%2) == 0:\n",
    "        print(iListElement, \"is divisible by 2\")\n",
    "        iSquare = iListElement**2\n",
    "        iFinalResult = iSquare - 2\n",
    "        print(\"Result =\", iFinalResult)\n",
    "    else:\n",
    "        print(iListElement, \"is not divisible by 2\")"
   ]
  },
  {
   "cell_type": "markdown",
   "metadata": {},
   "source": [
    "### 5. Consider a list of 10 elements. Print all the elements in the list which are greater than 7 when that number is divided \"2\"."
   ]
  },
  {
   "cell_type": "code",
   "execution_count": 5,
   "metadata": {},
   "outputs": [
    {
     "name": "stdout",
     "output_type": "stream",
     "text": [
      "100\n",
      "98\n",
      "97\n",
      "95\n",
      "451\n",
      "600\n",
      "789\n",
      "800\n",
      "955\n",
      "1000\n"
     ]
    }
   ],
   "source": [
    "# Initialising list\n",
    "lstIntegerElements = [100, 98, 97, 95, 451, 600, 789, 800, 955, 1000]\n",
    "\n",
    "# To determine if the result for numbers in the list is greater than 7 when divided by 2.\n",
    "for iListElement in lstIntegerElements:\n",
    "    iDivisionResult = iListElement / 2\n",
    "    if iDivisionResult > 7:\n",
    "        print(iListElement)\n",
    "#         print(iListElement, \"is greater than 7 when divided by 2\")\n",
    "#     else:\n",
    "#         print(iListElement, \"is not greater than 7 when divided by 2\")"
   ]
  }
 ],
 "metadata": {
  "kernelspec": {
   "display_name": "Python 3",
   "language": "python",
   "name": "python3"
  },
  "language_info": {
   "codemirror_mode": {
    "name": "ipython",
    "version": 3
   },
   "file_extension": ".py",
   "mimetype": "text/x-python",
   "name": "python",
   "nbconvert_exporter": "python",
   "pygments_lexer": "ipython3",
   "version": "3.7.6"
  }
 },
 "nbformat": 4,
 "nbformat_minor": 4
}
