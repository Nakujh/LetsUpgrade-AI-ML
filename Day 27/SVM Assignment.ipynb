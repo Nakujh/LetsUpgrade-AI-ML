{
 "cells": [
  {
   "cell_type": "code",
   "execution_count": 1,
   "metadata": {},
   "outputs": [],
   "source": [
    "import pandas as pd\n",
    "import numpy as np\n",
    "import matplotlib.pyplot as plt\n",
    "from sklearn import preprocessing\n",
    "from sklearn.metrics import accuracy_score\n",
    "from sklearn.metrics import confusion_matrix\n",
    "from sklearn.metrics import plot_confusion_matrix\n",
    "from sklearn.model_selection import train_test_split\n",
    "from sklearn import svm"
   ]
  },
  {
   "cell_type": "code",
   "execution_count": 2,
   "metadata": {},
   "outputs": [],
   "source": [
    "dataset = pd.read_csv(\"titanic_eda/train.csv\")"
   ]
  },
  {
   "cell_type": "code",
   "execution_count": 3,
   "metadata": {},
   "outputs": [],
   "source": [
    "le = preprocessing.LabelEncoder()"
   ]
  },
  {
   "cell_type": "code",
   "execution_count": 4,
   "metadata": {},
   "outputs": [],
   "source": [
    "dataset[\"Sex\"] = le.fit_transform(dataset[\"Sex\"])"
   ]
  },
  {
   "cell_type": "code",
   "execution_count": 5,
   "metadata": {},
   "outputs": [],
   "source": [
    "dataset[\"Embarked\"] = le.fit_transform(dataset[\"Embarked\"].astype(str))"
   ]
  },
  {
   "cell_type": "code",
   "execution_count": 6,
   "metadata": {},
   "outputs": [],
   "source": [
    "dataset[\"Age\"] = np.where(dataset[\"Age\"].isnull(),28,dataset[\"Age\"])"
   ]
  },
  {
   "cell_type": "code",
   "execution_count": 7,
   "metadata": {},
   "outputs": [],
   "source": [
    "y = dataset[\"Pclass\"]"
   ]
  },
  {
   "cell_type": "code",
   "execution_count": 8,
   "metadata": {},
   "outputs": [],
   "source": [
    "X = dataset.drop([\"PassengerId\",\"Name\",\"Ticket\",\"Cabin\"],axis=1)"
   ]
  },
  {
   "cell_type": "code",
   "execution_count": 9,
   "metadata": {},
   "outputs": [
    {
     "data": {
      "text/html": [
       "<div>\n",
       "<style scoped>\n",
       "    .dataframe tbody tr th:only-of-type {\n",
       "        vertical-align: middle;\n",
       "    }\n",
       "\n",
       "    .dataframe tbody tr th {\n",
       "        vertical-align: top;\n",
       "    }\n",
       "\n",
       "    .dataframe thead th {\n",
       "        text-align: right;\n",
       "    }\n",
       "</style>\n",
       "<table border=\"1\" class=\"dataframe\">\n",
       "  <thead>\n",
       "    <tr style=\"text-align: right;\">\n",
       "      <th></th>\n",
       "      <th>Survived</th>\n",
       "      <th>Pclass</th>\n",
       "      <th>Sex</th>\n",
       "      <th>Age</th>\n",
       "      <th>SibSp</th>\n",
       "      <th>Parch</th>\n",
       "      <th>Fare</th>\n",
       "      <th>Embarked</th>\n",
       "    </tr>\n",
       "  </thead>\n",
       "  <tbody>\n",
       "    <tr>\n",
       "      <th>0</th>\n",
       "      <td>0</td>\n",
       "      <td>3</td>\n",
       "      <td>1</td>\n",
       "      <td>22.0</td>\n",
       "      <td>1</td>\n",
       "      <td>0</td>\n",
       "      <td>7.2500</td>\n",
       "      <td>2</td>\n",
       "    </tr>\n",
       "    <tr>\n",
       "      <th>1</th>\n",
       "      <td>1</td>\n",
       "      <td>1</td>\n",
       "      <td>0</td>\n",
       "      <td>38.0</td>\n",
       "      <td>1</td>\n",
       "      <td>0</td>\n",
       "      <td>71.2833</td>\n",
       "      <td>0</td>\n",
       "    </tr>\n",
       "    <tr>\n",
       "      <th>2</th>\n",
       "      <td>1</td>\n",
       "      <td>3</td>\n",
       "      <td>0</td>\n",
       "      <td>26.0</td>\n",
       "      <td>0</td>\n",
       "      <td>0</td>\n",
       "      <td>7.9250</td>\n",
       "      <td>2</td>\n",
       "    </tr>\n",
       "    <tr>\n",
       "      <th>3</th>\n",
       "      <td>1</td>\n",
       "      <td>1</td>\n",
       "      <td>0</td>\n",
       "      <td>35.0</td>\n",
       "      <td>1</td>\n",
       "      <td>0</td>\n",
       "      <td>53.1000</td>\n",
       "      <td>2</td>\n",
       "    </tr>\n",
       "    <tr>\n",
       "      <th>4</th>\n",
       "      <td>0</td>\n",
       "      <td>3</td>\n",
       "      <td>1</td>\n",
       "      <td>35.0</td>\n",
       "      <td>0</td>\n",
       "      <td>0</td>\n",
       "      <td>8.0500</td>\n",
       "      <td>2</td>\n",
       "    </tr>\n",
       "  </tbody>\n",
       "</table>\n",
       "</div>"
      ],
      "text/plain": [
       "   Survived  Pclass  Sex   Age  SibSp  Parch     Fare  Embarked\n",
       "0         0       3    1  22.0      1      0   7.2500         2\n",
       "1         1       1    0  38.0      1      0  71.2833         0\n",
       "2         1       3    0  26.0      0      0   7.9250         2\n",
       "3         1       1    0  35.0      1      0  53.1000         2\n",
       "4         0       3    1  35.0      0      0   8.0500         2"
      ]
     },
     "execution_count": 9,
     "metadata": {},
     "output_type": "execute_result"
    }
   ],
   "source": [
    "X.head()"
   ]
  },
  {
   "cell_type": "code",
   "execution_count": 10,
   "metadata": {},
   "outputs": [],
   "source": [
    "lstColumnNames = list([\"Survived\",\"Pclass\",\"Sex\",\"SibSp\",\"Parch\",\"Embarked\"])"
   ]
  },
  {
   "cell_type": "code",
   "execution_count": 11,
   "metadata": {},
   "outputs": [],
   "source": [
    "def SplitData(Xdataset, sColumnName):\n",
    "    y = Xdataset[sColumnName]\n",
    "    Xdataset = Xdataset.drop([sColumnName],axis=1)\n",
    "    return train_test_split(Xdataset,y,test_size=0.3,random_state=0)\n",
    "\n",
    "def InitialiseSVM():\n",
    "    return svm.SVC(gamma=0.01, C=100)\n",
    "\n",
    "def FitSVMClassifier(x_train,y_train):\n",
    "    clf = InitialiseSVM()\n",
    "    return clf.fit(x_train,y_train)\n",
    "\n",
    "def PredictUsingSVM(x_train,x_test,y_train):\n",
    "    clf = FitSVMClassifier(x_train,y_train)\n",
    "    return clf.predict(x_test)\n",
    "\n",
    "def FindConfusionMatrixAndAccuracy(Xdataset, sColumnName):\n",
    "    X_train,X_test,y_train,y_test = SplitData(Xdataset, sColumnName) \n",
    "    y_pred = PredictUsingSVM(X_train,X_test,y_train)\n",
    "    print(\"Dependent Variable:\", sColumnName)\n",
    "    print(\"Accuracy\")\n",
    "    acc = accuracy_score(y_test,y_pred,normalize=True) \n",
    "    print(acc, \"\\n\")\n",
    "    print(\"Confusion matrix\")\n",
    "    print(confusion_matrix(y_test,y_pred))\n",
    "    return acc\n",
    "\n",
    "def PlotConfusionMatrix(Xdataset, sColumnName):\n",
    "    X_train,X_test,y_train,y_test = SplitData(Xdataset, sColumnName) \n",
    "    y_pred = PredictUsingSVM(X_train,X_test,y_train)\n",
    "    print(\"Dependent Variable:\", sColumnName)\n",
    "    print(\"Accuracy\")\n",
    "    print(accuracy_score(y_test,y_pred,normalize=True), \"\\n\")\n",
    "    plot_confusion_matrix(FitSVMClassifier(X_train,y_train),  \n",
    "                          X_test, \n",
    "                          y_test)\n",
    "    return plt.show()"
   ]
  },
  {
   "cell_type": "code",
   "execution_count": 12,
   "metadata": {},
   "outputs": [],
   "source": [
    "Accuracy = []"
   ]
  },
  {
   "cell_type": "code",
   "execution_count": 13,
   "metadata": {},
   "outputs": [
    {
     "name": "stdout",
     "output_type": "stream",
     "text": [
      "Printing confusion matrix\n",
      "\n",
      "Dependent Variable: Survived\n",
      "Accuracy\n",
      "0.7649253731343284 \n",
      "\n",
      "Confusion matrix\n",
      "[[139  29]\n",
      " [ 34  66]]\n",
      "\n",
      "\n",
      "Dependent Variable: Pclass\n",
      "Accuracy\n",
      "0.8880597014925373 \n",
      "\n",
      "Confusion matrix\n",
      "[[ 57   3   0]\n",
      " [  7  39   6]\n",
      " [  3  11 142]]\n",
      "\n",
      "\n",
      "Dependent Variable: Sex\n",
      "Accuracy\n",
      "0.7425373134328358 \n",
      "\n",
      "Confusion matrix\n",
      "[[ 58  41]\n",
      " [ 28 141]]\n",
      "\n",
      "\n",
      "Dependent Variable: SibSp\n",
      "Accuracy\n",
      "0.7425373134328358 \n",
      "\n",
      "Confusion matrix\n",
      "[[159  20   2   0   0   0]\n",
      " [ 31  31   3   0   0   0]\n",
      " [  1   3   1   2   0   0]\n",
      " [  1   2   0   3   0   0]\n",
      " [  2   2   0   0   3   0]\n",
      " [  0   0   0   0   0   2]]\n",
      "\n",
      "\n",
      "Dependent Variable: Parch\n",
      "Accuracy\n",
      "0.8283582089552238 \n",
      "\n",
      "Confusion matrix\n",
      "[[193   5   6   0   0   0]\n",
      " [ 21  17   1   1   0   0]\n",
      " [  6   3  12   0   0   0]\n",
      " [  0   0   0   0   0   0]\n",
      " [  0   1   1   0   0   0]\n",
      " [  0   1   0   0   0   0]]\n",
      "\n",
      "\n",
      "Dependent Variable: Embarked\n",
      "Accuracy\n",
      "0.75 \n",
      "\n",
      "Confusion matrix\n",
      "[[ 24   3  32   1]\n",
      " [  1   8  12   0]\n",
      " [ 14   4 169   0]\n",
      " [  0   0   0   0]]\n",
      "\n",
      "\n",
      "Maximum Accuracy: 0.8880597014925373 for Dependent variable= Pclass \n",
      "\n"
     ]
    }
   ],
   "source": [
    "print(\"Printing confusion matrix\\n\")\n",
    "for sColumnName in lstColumnNames:\n",
    "    Accuracy.append(FindConfusionMatrixAndAccuracy(X,sColumnName))\n",
    "    print(\"\\n\")\n",
    "print(\"Maximum Accuracy:\", max(Accuracy), \"for Dependent variable=\", lstColumnNames[Accuracy.index(max(Accuracy))], \"\\n\")"
   ]
  },
  {
   "cell_type": "code",
   "execution_count": 14,
   "metadata": {},
   "outputs": [
    {
     "name": "stdout",
     "output_type": "stream",
     "text": [
      "Plotting confusion matrix\n",
      "\n",
      "Dependent Variable: Survived\n",
      "Accuracy\n",
      "0.7649253731343284 \n",
      "\n"
     ]
    },
    {
     "data": {
      "image/png": "[encoded data removed]",
      "text/plain": [
       "<Figure size 432x288 with 2 Axes>"
      ]
     },
     "metadata": {
      "needs_background": "light"
     },
     "output_type": "display_data"
    },
    {
     "name": "stdout",
     "output_type": "stream",
     "text": [
      "Dependent Variable: Pclass\n",
      "Accuracy\n",
      "0.8880597014925373 \n",
      "\n"
     ]
    },
    {
     "data": {
      "image/png": "[encoded data removed]",
      "text/plain": [
       "<Figure size 432x288 with 2 Axes>"
      ]
     },
     "metadata": {
      "needs_background": "light"
     },
     "output_type": "display_data"
    },
    {
     "name": "stdout",
     "output_type": "stream",
     "text": [
      "Dependent Variable: Sex\n",
      "Accuracy\n",
      "0.7425373134328358 \n",
      "\n"
     ]
    },
    {
     "data": {
      "image/png": "[encoded data removed]",
      "text/plain": [
       "<Figure size 432x288 with 2 Axes>"
      ]
     },
     "metadata": {
      "needs_background": "light"
     },
     "output_type": "display_data"
    },
    {
     "name": "stdout",
     "output_type": "stream",
     "text": [
      "Dependent Variable: SibSp\n",
      "Accuracy\n",
      "0.7425373134328358 \n",
      "\n"
     ]
    },
    {
     "data": {
      "image/png": "[encoded data removed]",
      "text/plain": [
       "<Figure size 432x288 with 2 Axes>"
      ]
     },
     "metadata": {
      "needs_background": "light"
     },
     "output_type": "display_data"
    },
    {
     "name": "stdout",
     "output_type": "stream",
     "text": [
      "Dependent Variable: Parch\n",
      "Accuracy\n",
      "0.8283582089552238 \n",
      "\n"
     ]
    },
    {
     "data": {
      "image/png": "[encoded data removed]",
      "text/plain": [
       "<Figure size 432x288 with 2 Axes>"
      ]
     },
     "metadata": {
      "needs_background": "light"
     },
     "output_type": "display_data"
    },
    {
     "name": "stdout",
     "output_type": "stream",
     "text": [
      "Dependent Variable: Embarked\n",
      "Accuracy\n",
      "0.75 \n",
      "\n"
     ]
    },
    {
     "data": {
      "image/png": "[encoded data removed]",
      "text/plain": [
       "<Figure size 432x288 with 2 Axes>"
      ]
     },
     "metadata": {
      "needs_background": "light"
     },
     "output_type": "display_data"
    }
   ],
   "source": [
    "print(\"Plotting confusion matrix\\n\")\n",
    "for sColumnName in lstColumnNames:\n",
    "    PlotConfusionMatrix(X,sColumnName)"
   ]
  },
  {
   "cell_type": "code",
   "execution_count": null,
   "metadata": {},
   "outputs": [],
   "source": []
  }
 ],
 "metadata": {
  "kernelspec": {
   "display_name": "Python 3",
   "language": "python",
   "name": "python3"
  },
  "language_info": {
   "codemirror_mode": {
    "name": "ipython",
    "version": 3
   },
   "file_extension": ".py",
   "mimetype": "text/x-python",
   "name": "python",
   "nbconvert_exporter": "python",
   "pygments_lexer": "ipython3",
   "version": "3.7.6"
  },
  "toc": {
   "base_numbering": 1,
   "nav_menu": {},
   "number_sections": true,
   "sideBar": true,
   "skip_h1_title": false,
   "title_cell": "Table of Contents",
   "title_sidebar": "Contents",
   "toc_cell": false,
   "toc_position": {},
   "toc_section_display": true,
   "toc_window_display": false
  }
 },
 "nbformat": 4,
 "nbformat_minor": 4
}
