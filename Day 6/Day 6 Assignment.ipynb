{
 "cells": [
  {
   "cell_type": "markdown",
   "metadata": {},
   "source": [
    "### 1. Assuming that we have some email addresses in the \"username@companyname.com\" format, please write program to print the company name of a given email address. Both user names and company names are composed of letters only."
   ]
  },
  {
   "cell_type": "code",
   "execution_count": 1,
   "metadata": {},
   "outputs": [
    {
     "name": "stdout",
     "output_type": "stream",
     "text": [
      "Enter email address (user name and company name must contain only alphabets):jhanarendra@gmail.com\n",
      "Company name: gmail\n"
     ]
    }
   ],
   "source": [
    "# Initialising variables and getting email address from user\n",
    "sDelimiter = \"\"\n",
    "sMail      = input(\"Enter email address (user name and company name must contain only alphabets):\")\n",
    "i = 0\n",
    "\n",
    "# Initialising lists\n",
    "lstCompanyName  = []\n",
    "lstEmailLetters = list(sMail)\n",
    "\n",
    "# Function to increament an integer variable\n",
    "def IncreaseCount(iCount):\n",
    "    return iCount + 1\n",
    "\n",
    "# Extracting company name from the email address provided by the user\n",
    "while i<len(sMail):\n",
    "    # Detecting '@' in the email address\n",
    "    if not str(lstEmailLetters[i]).isalpha():\n",
    "        i = IncreaseCount(i)\n",
    "        # Extract letters until '.' is detected in email address\n",
    "        while str(lstEmailLetters[i]).isalpha():\n",
    "            lstCompanyName.append(lstEmailLetters[i])\n",
    "            i = IncreaseCount(i)\n",
    "    i = IncreaseCount(i)\n",
    "\n",
    "# Printing company name\n",
    "print(\"Company name:\", sDelimiter.join(lstCompanyName))"
   ]
  },
  {
   "cell_type": "markdown",
   "metadata": {},
   "source": [
    "### 2. Write a program that accepts a comma-separated sequence of words as input and prints the words in a comma separated sequence after sorting them alphabetically."
   ]
  },
  {
   "cell_type": "code",
   "execution_count": 2,
   "metadata": {},
   "outputs": [
    {
     "name": "stdout",
     "output_type": "stream",
     "text": [
      "Enter comma-separated string:without,hello,bag,world\n",
      "Sorted list: bag,hello,without,world\n"
     ]
    }
   ],
   "source": [
    "# Initialising input\n",
    "sInput     = input(\"Enter comma-separated string:\")\n",
    "sDelimiter = \",\"\n",
    "\n",
    "# Extract words from comma-separated string as a list\n",
    "lstWords = sInput.split(\",\")\n",
    "\n",
    "# Sort the list\n",
    "lstWords.sort()\n",
    "\n",
    "# Printing output\n",
    "print(\"Sorted list:\", sDelimiter.join(lstWords))"
   ]
  },
  {
   "cell_type": "markdown",
   "metadata": {},
   "source": [
    "### 4. Given a list of n-1 numbers ranging from 1 to n, your task is to find the missing number. There are no duplicates."
   ]
  },
  {
   "cell_type": "code",
   "execution_count": 3,
   "metadata": {},
   "outputs": [
    {
     "name": "stdout",
     "output_type": "stream",
     "text": [
      "Enter list of n-1 numbers ranging from 1 to n:1 2 3 4 5 6 8 9 10 7 11 12 14 19 17 15 16 20 13 18\n",
      "The missing number in the list is 21\n"
     ]
    }
   ],
   "source": [
    "# Initialising input series of numbers\n",
    "sInput = input(\"Enter list of n-1 numbers ranging from 1 to n:\")\n",
    "\n",
    "# Initialising variables\n",
    "iNumber    = 0\n",
    "lstNumbers = sInput.split(\" \") # Getting numbers from string to list\n",
    "iListCount = len(lstNumbers)   # Get list count\n",
    "\n",
    "# Finding the missing number\n",
    "while iNumber<=iListCount:\n",
    "    # Series starts from 1, so 0 should not be checked\n",
    "    iNumber = iNumber + 1\n",
    "    # Check whether the number is in the list or not\n",
    "    if not str(iNumber) in lstNumbers:\n",
    "        iMissingNumber = iNumber\n",
    "\n",
    "# Printing the missing number\n",
    "print(\"The missing number in the list is\", iMissingNumber)"
   ]
  },
  {
   "cell_type": "markdown",
   "metadata": {},
   "source": [
    "### 5. With a given list L, write a program to print this list L after removing all duplicate values with original order reserved."
   ]
  },
  {
   "cell_type": "code",
   "execution_count": 8,
   "metadata": {},
   "outputs": [
    {
     "name": "stdout",
     "output_type": "stream",
     "text": [
      "Enter list:12 24 35 24\n",
      "Final list: 12 24 35\n"
     ]
    }
   ],
   "source": [
    "# Initialising input\n",
    "sInput = input(\"Enter list:\")\n",
    "# Extracting numbers into list from string\n",
    "lstDuplicate = sInput.split(\" \")\n",
    "sDelimiter   = \" \"\n",
    "\n",
    "# Remove duplicates from list and return list with unique elements\n",
    "def RemoveDuplicates(lstInput):\n",
    "    lstTemporary = []\n",
    "    for sElement in lstInput:\n",
    "        if not sElement in lstTemporary:\n",
    "            lstTemporary.append(sElement)\n",
    "    return lstTemporary\n",
    "\n",
    "# Remove duplicates from list and return list with unique elements\n",
    "print(\"Final list:\", sDelimiter.join(RemoveDuplicates(lstDuplicate)))"
   ]
  }
 ],
 "metadata": {
  "kernelspec": {
   "display_name": "Python 3",
   "language": "python",
   "name": "python3"
  },
  "language_info": {
   "codemirror_mode": {
    "name": "ipython",
    "version": 3
   },
   "file_extension": ".py",
   "mimetype": "text/x-python",
   "name": "python",
   "nbconvert_exporter": "python",
   "pygments_lexer": "ipython3",
   "version": "3.7.6"
  },
  "toc": {
   "base_numbering": 1,
   "nav_menu": {},
   "number_sections": true,
   "sideBar": true,
   "skip_h1_title": false,
   "title_cell": "Table of Contents",
   "title_sidebar": "Contents",
   "toc_cell": false,
   "toc_position": {},
   "toc_section_display": true,
   "toc_window_display": false
  }
 },
 "nbformat": 4,
 "nbformat_minor": 4
}
