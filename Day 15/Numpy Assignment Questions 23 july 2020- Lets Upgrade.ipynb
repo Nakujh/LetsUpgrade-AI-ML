{
 "cells": [
  {
   "cell_type": "markdown",
   "metadata": {},
   "source": [
    "# 1. Create a 3x3x3 array with random values "
   ]
  },
  {
   "cell_type": "code",
   "execution_count": 37,
   "metadata": {},
   "outputs": [
    {
     "name": "stdout",
     "output_type": "stream",
     "text": [
      "3D Array with random values (technique 1): \n",
      " [[[0.47581604 0.99978011 0.17276289]\n",
      "  [0.45499192 0.02072307 0.63657224]\n",
      "  [0.69178466 0.63477842 0.13620931]]\n",
      "\n",
      " [[0.51354728 0.31773488 0.98763912]\n",
      "  [0.76981744 0.28527201 0.59810539]\n",
      "  [0.43121478 0.37140564 0.61099529]]\n",
      "\n",
      " [[0.83269521 0.3834257  0.31111429]\n",
      "  [0.29451035 0.68238534 0.48902571]\n",
      "  [0.24261698 0.93032464 0.60526717]]]\n",
      "\n",
      "3D Array with random values (technique 2): \n",
      " [[[0.8589098  0.53642163 0.58539597]\n",
      "  [0.33366134 0.79287566 0.54136385]\n",
      "  [0.80895094 0.88963115 0.84040068]]\n",
      "\n",
      " [[0.45454712 0.50418526 0.58196645]\n",
      "  [0.02513209 0.14787456 0.34993682]\n",
      "  [0.63722532 0.43288423 0.34806534]]\n",
      "\n",
      " [[0.9793383  0.82775811 0.54539218]\n",
      "  [0.46819197 0.58071015 0.96533636]\n",
      "  [0.20975115 0.33477903 0.37183815]]]\n"
     ]
    }
   ],
   "source": [
    "import numpy as np \n",
    "        \n",
    "# Creating 3D array with random values\n",
    "array = np.random.random((3, 3 ,3)) \n",
    "\n",
    "# Creating 3D array with random values\n",
    "array1 = np.random.rand(3, 3 ,3) \n",
    "\n",
    "print(\"3D Array with random values (technique 1): \\n\", array); \n",
    "\n",
    "print(\"\\n3D Array with random values (technique 2): \\n\", array1);\n"
   ]
  },
  {
   "cell_type": "markdown",
   "metadata": {},
   "source": [
    "# 2.Create a 5x5 matrix with values 1,2,3,4 just below the diagonal"
   ]
  },
  {
   "cell_type": "code",
   "execution_count": 11,
   "metadata": {},
   "outputs": [
    {
     "name": "stdout",
     "output_type": "stream",
     "text": [
      "Matrix with values 1,2,3,4 just below the diagonal\n",
      "[[1. 0. 0. 0. 0.]\n",
      " [1. 2. 0. 0. 0.]\n",
      " [1. 2. 3. 0. 0.]\n",
      " [1. 2. 3. 4. 0.]\n",
      " [1. 2. 3. 4. 5.]]\n"
     ]
    }
   ],
   "source": [
    "import numpy as np\n",
    "\n",
    "ArrayList = [1,2,3,4,5]\n",
    "\n",
    "x = np.zeros((5,5))\n",
    "x += ArrayList\n",
    "x = np.tril(x, 0)\n",
    "\n",
    "print(\"Matrix with values 1,2,3,4 just below the diagonal\")  \n",
    "print(x)"
   ]
  },
  {
   "cell_type": "markdown",
   "metadata": {},
   "source": [
    "# 3.Create a 8x8 matrix and fill it with a checkerboard pattern"
   ]
  },
  {
   "cell_type": "code",
   "execution_count": 32,
   "metadata": {},
   "outputs": [
    {
     "name": "stdout",
     "output_type": "stream",
     "text": [
      "[[0 1 0 1 0 1 0 1]\n",
      " [1 0 1 0 1 0 1 0]\n",
      " [0 1 0 1 0 1 0 1]\n",
      " [1 0 1 0 1 0 1 0]\n",
      " [0 1 0 1 0 1 0 1]\n",
      " [1 0 1 0 1 0 1 0]\n",
      " [0 1 0 1 0 1 0 1]\n",
      " [1 0 1 0 1 0 1 0]]\n"
     ]
    }
   ],
   "source": [
    "import numpy as np\n",
    "\n",
    "# Create a 8x8 array with all zeros and datatype as 'int'\n",
    "x = np.zeros((8,8),dtype=int)\n",
    "\n",
    "# Make elements equal to '1' from every second row(starting from 1st row) and \n",
    "# every second column(starting from 0th column)\n",
    "x[1::2,::2] = 1\n",
    "\n",
    "# Make elements equal to '1' from every second row(starting from 0th row) and \n",
    "# every second column(starting from 1st column)\n",
    "x[::2,1::2] = 1\n",
    "\n",
    "# Printing checkerboard pattern\n",
    "print(x)"
   ]
  },
  {
   "cell_type": "markdown",
   "metadata": {},
   "source": [
    "# 4. Normalize a 5x5 random matrix"
   ]
  },
  {
   "cell_type": "code",
   "execution_count": 48,
   "metadata": {},
   "outputs": [
    {
     "name": "stdout",
     "output_type": "stream",
     "text": [
      "5x5 Array with random values: \n",
      " [[0.87751337 0.67371382 0.27517769 0.18255748 0.45471763]\n",
      " [0.51330202 0.29543531 0.98367032 0.40118599 0.28902066]\n",
      " [0.15702315 0.14830878 0.25698778 0.25057751 0.05147401]\n",
      " [0.98236556 0.53203341 0.76630968 0.36232391 0.85176098]\n",
      " [0.20313221 0.51766408 0.31072978 0.64714298 0.03146664]] \n",
      "\n",
      "Atfter normalization: \n",
      " [[0.70718055 0.54294023 0.22176336 0.14712152 0.36645307]\n",
      " [0.41059544 0.23632168 0.78684778 0.3209127  0.23119053]\n",
      " [0.37204144 0.35139413 0.60889177 0.59370365 0.12195949]\n",
      " [0.59872435 0.32425949 0.46704434 0.2208263  0.51912452]\n",
      " [0.22356318 0.56973055 0.34198287 0.71223239 0.03463154]] \n",
      "\n"
     ]
    }
   ],
   "source": [
    "import numpy as np\n",
    "from numpy import linalg as lalg\n",
    "\n",
    "# Function that normalizes each row of the matrix x to have unit length.\n",
    "def normalize_rows(x):\n",
    "    return x/lalg.norm(x, ord=2, axis=1, keepdims=True)\n",
    "\n",
    "# Creating 5x5 array with random values\n",
    "array = np.random.rand(5, 5)\n",
    "\n",
    "print(\"5x5 Array with random values: \\n\", array, \"\\n\");\n",
    "\n",
    "narray = normalize_rows(array)\n",
    "\n",
    "print(\"Atfter normalization: \\n\", narray, \"\\n\")"
   ]
  },
  {
   "cell_type": "markdown",
   "metadata": {},
   "source": [
    "# 5.  How to find common values between two arrays?"
   ]
  },
  {
   "cell_type": "code",
   "execution_count": 56,
   "metadata": {},
   "outputs": [
    {
     "name": "stdout",
     "output_type": "stream",
     "text": [
      "Array1:  [0, 100, 200, 400, 700] \n",
      "\n",
      "Array2:  [100, 300, 400, 700] \n",
      "\n",
      "Common values between two arrays: [100 400 700] \n",
      "\n",
      "Index of common values at Array1: [1 3 4] \n",
      "\n",
      "Index of common values at Array2: [0 2 3] \n",
      "\n"
     ]
    }
   ],
   "source": [
    "import numpy as np\n",
    "\n",
    "array1 = [0, 100, 200, 400, 700]\n",
    "print(\"Array1: \", array1, \"\\n\")\n",
    "array2 = [100, 300, 400, 700]\n",
    "print(\"Array2: \", array2, \"\\n\")\n",
    "\n",
    "# Get common values between two arrays with indices\n",
    "CommonValues, array1_idx, array2_idx = np.intersect1d(array1, array2, return_indices=True) \n",
    "\n",
    "print(\"Common values between two arrays:\", CommonValues, \"\\n\")\n",
    "\n",
    "print(\"Index of common values at Array1:\", array1_idx, \"\\n\")\n",
    "\n",
    "print(\"Index of common values at Array2:\", array2_idx, \"\\n\")"
   ]
  },
  {
   "cell_type": "markdown",
   "metadata": {},
   "source": [
    "# 6.How to get the dates of yesterday, today and tomorrow?"
   ]
  },
  {
   "cell_type": "code",
   "execution_count": 57,
   "metadata": {},
   "outputs": [
    {
     "name": "stdout",
     "output_type": "stream",
     "text": [
      "Yestraday's date:  2020-07-25\n",
      "Today's date:  2020-07-26\n",
      "Tomorrow's date:  2020-07-27\n"
     ]
    }
   ],
   "source": [
    "import numpy as np\n",
    "\n",
    "yesterday = np.datetime64('today', 'D') - np.timedelta64(1, 'D')\n",
    "print(\"Yestraday's date: \",yesterday)\n",
    "\n",
    "today     = np.datetime64('today', 'D')\n",
    "print(\"Today's date: \",today)\n",
    "\n",
    "tomorrow  = np.datetime64('today', 'D') + np.timedelta64(1, 'D')\n",
    "print(\"Tomorrow's date: \",tomorrow)"
   ]
  },
  {
   "cell_type": "markdown",
   "metadata": {},
   "source": [
    "# 7. Consider two random array A and B, check if they are equal"
   ]
  },
  {
   "cell_type": "code",
   "execution_count": 68,
   "metadata": {},
   "outputs": [
    {
     "name": "stdout",
     "output_type": "stream",
     "text": [
      "First array: [9 5 0 0 2 8 3 2 8 9]\n",
      "Second array: [5 6 8 6 5 0 1 3 5 3]\n",
      "Above two arrays are equal or not: False\n"
     ]
    }
   ],
   "source": [
    "import numpy as np\n",
    "\n",
    "# Create random array with 10 elements between 0 and 10 \n",
    "array1 = np.random.randint(0,10,10)\n",
    "print(\"First array:\", array1)\n",
    "\n",
    "# Create random array with 10 elements between 0 and 10\n",
    "array2 = np.random.randint(0,10,10)\n",
    "print(\"Second array:\", array2)\n",
    "\n",
    "# Checking whether the above two array are equal or not\n",
    "IsEqual = np.allclose(array1, array2)\n",
    "print(\"Above two arrays are equal or not:\", IsEqual)"
   ]
  },
  {
   "cell_type": "markdown",
   "metadata": {},
   "source": [
    "# 8.Create random vector of size 10 and replace the maximum value by 0 "
   ]
  },
  {
   "cell_type": "code",
   "execution_count": 78,
   "metadata": {},
   "outputs": [
    {
     "name": "stdout",
     "output_type": "stream",
     "text": [
      "Random vector:\n",
      " [0.49440972 0.23246454 0.05642534 0.25290347 0.43506636 0.06520623\n",
      " 0.47794832 0.73346153 0.1851558  0.95703345]\n",
      "Vector size: 10 \n",
      "\n",
      "Maximum value at: 9 \n",
      "\n",
      "Maximum value replaced by 0:\n",
      " [0.49440972 0.23246454 0.05642534 0.25290347 0.43506636 0.06520623\n",
      " 0.47794832 0.73346153 0.1851558  0.        ]\n"
     ]
    }
   ],
   "source": [
    "import numpy as np\n",
    "\n",
    "# Create random array of size 10\n",
    "x = np.random.random(10)\n",
    "print(\"Random vector:\\n\", x)\n",
    "print(\"Vector size:\", x.size, \"\\n\")\n",
    "\n",
    "idx = x.argmax()\n",
    "print(\"Maximum value at:\", idx, \"\\n\")\n",
    "x[idx] = 0\n",
    "print(\"Maximum value replaced by 0:\\n\", x)"
   ]
  },
  {
   "cell_type": "markdown",
   "metadata": {},
   "source": [
    "# 9. How to print all the values of an array?"
   ]
  },
  {
   "cell_type": "code",
   "execution_count": 86,
   "metadata": {},
   "outputs": [
    {
     "name": "stdout",
     "output_type": "stream",
     "text": [
      "Random vector:\n",
      " [0.58051384 0.07676684 0.60081984 ... 0.78037802 0.78256999 0.66587198]\n",
      "Vector size: 10 \n",
      "\n",
      "0.5805138389420227 \n",
      "\n",
      "0.07676683687087593 \n",
      "\n",
      "0.6008198381057386 \n",
      "\n",
      "0.620636998099783 \n",
      "\n",
      "0.09988666763018794 \n",
      "\n",
      "0.38830775100128456 \n",
      "\n",
      "0.7042293757506937 \n",
      "\n",
      "0.7803780203152204 \n",
      "\n",
      "0.782569988896746 \n",
      "\n",
      "0.6658719798251708 \n",
      "\n"
     ]
    }
   ],
   "source": [
    "import numpy as np\n",
    "\n",
    "# Create random array of size 10\n",
    "x = np.random.random(10)\n",
    "print(\"Random vector:\\n\", x)\n",
    "print(\"Vector size:\", x.size, \"\\n\")\n",
    "\n",
    "for i in range(x.size):\n",
    "    print(x[i], \"\\n\")\n"
   ]
  },
  {
   "cell_type": "markdown",
   "metadata": {},
   "source": [
    "# 10.Subtract the mean of each row of a matrix"
   ]
  },
  {
   "cell_type": "code",
   "execution_count": 95,
   "metadata": {},
   "outputs": [
    {
     "name": "stdout",
     "output_type": "stream",
     "text": [
      "Original matrix:\n",
      " [[0.10336665 0.1847203  0.43804461 0.75418131 0.93378631]\n",
      " [0.18170926 0.78357586 0.03171687 0.59306123 0.64557754]\n",
      " [0.77328079 0.41377365 0.71085774 0.0035048  0.20013562]\n",
      " [0.11934359 0.85799429 0.15844152 0.31447858 0.98830633]\n",
      " [0.20213586 0.67391725 0.58040324 0.24856433 0.63072157]] \n",
      "\n",
      "Mean of each row: \n",
      " [[0.48281984]\n",
      " [0.44712815]\n",
      " [0.42031052]\n",
      " [0.48771286]\n",
      " [0.46714845]]\n",
      "\n",
      "Subtract the mean of each row of the said matrix:\n",
      " [[-0.37945319 -0.29809953 -0.04477522  0.27136148  0.45096647]\n",
      " [-0.26541889  0.33644771 -0.41541128  0.14593308  0.19844939]\n",
      " [ 0.35297027 -0.00653687  0.29054722 -0.41680572 -0.2201749 ]\n",
      " [-0.36836927  0.37028143 -0.32927134 -0.17323428  0.50059347]\n",
      " [-0.26501259  0.2067688   0.11325479 -0.21858412  0.16357312]]\n"
     ]
    }
   ],
   "source": [
    "import numpy as np\n",
    "\n",
    "array = np.random.rand(5, 5)\n",
    "print(\"Original matrix:\\n\", array, \"\\n\")\n",
    "\n",
    "print(\"Mean of each row:\", \"\\n\", array.mean(axis=1, keepdims=True))\n",
    "\n",
    "Y = array - array.mean(axis=1, keepdims=True)\n",
    "print(\"\\nSubtract the mean of each row of the said matrix:\\n\", Y)"
   ]
  },
  {
   "cell_type": "markdown",
   "metadata": {},
   "source": [
    "# 11.Consider a given vector, how to add 1 to each element indexed by a second vector (be careful with repeated indices)? "
   ]
  },
  {
   "cell_type": "code",
   "execution_count": 10,
   "metadata": {},
   "outputs": [
    {
     "name": "stdout",
     "output_type": "stream",
     "text": [
      "Vector: [63 28 78 54 15 75 24 78 28 92] \n",
      "\n",
      "Index vector: [9 5 7] \n",
      "\n",
      "Processed vector: [63 28 78 54 15 76 24 79 28 93]\n"
     ]
    }
   ],
   "source": [
    "import numpy as np\n",
    "\n",
    "# Generating two vectors\n",
    "xVector = np.random.randint(100, size=10)\n",
    "yVector = np.random.randint(10, size=5)   # This vector will be used as index vector\n",
    "\n",
    "# Removing duplicate values from second vector\n",
    "y = list(set(yVector))\n",
    "yVector = np.array(y)\n",
    "\n",
    "print(\"Vector:\", xVector, \"\\n\")\n",
    "print(\"Index vector:\", yVector, \"\\n\")\n",
    "\n",
    "# Adding 1 to each element of a vector indexed by second vector\n",
    "for i in yVector:\n",
    "    xVector[i] += 1\n",
    "    \n",
    "# Printing result\n",
    "print(\"Processed vector:\", xVector)"
   ]
  },
  {
   "cell_type": "markdown",
   "metadata": {},
   "source": [
    "# 12.How to get the diagonal of a dot product?"
   ]
  },
  {
   "cell_type": "code",
   "execution_count": 17,
   "metadata": {},
   "outputs": [
    {
     "name": "stdout",
     "output_type": "stream",
     "text": [
      "Dot product: \n",
      " [[ 8  5  0]\n",
      " [26 14  0]\n",
      " [44 23  0]] \n",
      "\n",
      "Diagonal: [ 8 14  0]\n"
     ]
    }
   ],
   "source": [
    "import numpy as np\n",
    "\n",
    "a = [[1, 2, 3], [4, 5, 6], [7, 8, 9]]\n",
    "b = [[4, 1, 0], [2, 2, 0], [0, 0, 0]]\n",
    "c = np.dot(a, b)\n",
    "\n",
    "print(\"Dot product: \\n\", c, \"\\n\")\n",
    "\n",
    "print(\"Diagonal:\", c.diagonal())"
   ]
  },
  {
   "cell_type": "markdown",
   "metadata": {},
   "source": [
    "# 13.How to find the most frequent value in an array?"
   ]
  },
  {
   "cell_type": "code",
   "execution_count": 19,
   "metadata": {},
   "outputs": [
    {
     "name": "stdout",
     "output_type": "stream",
     "text": [
      "Original array:\n",
      " [39  0 16 42 26  9 40 38 27 26]\n",
      "Most frequent value in the above array: 26\n"
     ]
    }
   ],
   "source": [
    "import numpy as np\n",
    "\n",
    "xArray = np.random.randint(50, size=10)\n",
    "print(\"Original array:\\n\", xArray)\n",
    "\n",
    "y = np.bincount(xArray).argmax()\n",
    "print(\"Most frequent value in the above array:\", y)"
   ]
  },
  {
   "cell_type": "markdown",
   "metadata": {},
   "source": [
    "# 14.How to get the n largest values of an array"
   ]
  },
  {
   "cell_type": "code",
   "execution_count": 27,
   "metadata": {},
   "outputs": [
    {
     "name": "stdout",
     "output_type": "stream",
     "text": [
      "Original array:\n",
      " [ 7  0 22 20 28 29 19 16  3 22  0 11  0 15 26]\n",
      "How many largest values of an array?5\n",
      "5 largest values of the array:\n",
      " [22 22 26 28 29]\n"
     ]
    }
   ],
   "source": [
    "import numpy as np\n",
    "\n",
    "xArray = np.random.randint(30, size = 15)\n",
    "print(\"Original array:\\n\", xArray)\n",
    "\n",
    "np.random.shuffle(xArray)\n",
    "\n",
    "n = int(input(\"How many largest values of an array?\"))\n",
    "\n",
    "# Getting 'n' largest values of an array\n",
    "print(n, \"largest values of the array:\\n\", xArray[np.argsort(xArray)[-n:]])"
   ]
  },
  {
   "cell_type": "markdown",
   "metadata": {},
   "source": [
    "# 15.How to create a record array from a regular array?"
   ]
  },
  {
   "cell_type": "code",
   "execution_count": 47,
   "metadata": {},
   "outputs": [
    {
     "name": "stdout",
     "output_type": "stream",
     "text": [
      "(1., b'Red', 12.2)\n",
      "(2., b'Green', 15.)\n",
      "(3., b'White', 20.)\n",
      "(4., b'Orange', 40.)\n"
     ]
    }
   ],
   "source": [
    "import numpy as np\n",
    "\n",
    "# Regular array\n",
    "a1=np.array([1,2,3,4])\n",
    "a2=np.array(['Red','Green','White','Orange'])\n",
    "a3=np.array([12.20,15,20,40])\n",
    "\n",
    "# Record array\n",
    "result= np.core.records.fromarrays([a1, a2, a3],\n",
    "        dtype=np.dtype([('a', np.float), ('b','S10'), ('c', np.float)]))\n",
    "\n",
    "for i in range(result.size):\n",
    "    print(result[i])"
   ]
  },
  {
   "cell_type": "code",
   "execution_count": null,
   "metadata": {},
   "outputs": [],
   "source": []
  }
 ],
 "metadata": {
  "kernelspec": {
   "display_name": "Python 3",
   "language": "python",
   "name": "python3"
  },
  "language_info": {
   "codemirror_mode": {
    "name": "ipython",
    "version": 3
   },
   "file_extension": ".py",
   "mimetype": "text/x-python",
   "name": "python",
   "nbconvert_exporter": "python",
   "pygments_lexer": "ipython3",
   "version": "3.7.6"
  },
  "toc": {
   "base_numbering": 1,
   "nav_menu": {},
   "number_sections": true,
   "sideBar": true,
   "skip_h1_title": false,
   "title_cell": "Table of Contents",
   "title_sidebar": "Contents",
   "toc_cell": false,
   "toc_position": {},
   "toc_section_display": true,
   "toc_window_display": false
  }
 },
 "nbformat": 4,
 "nbformat_minor": 2
}
