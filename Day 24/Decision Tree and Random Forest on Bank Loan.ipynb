{
 "cells": [
  {
   "cell_type": "markdown",
   "metadata": {},
   "source": [
    "# 3. Apply Decision tree and random algorithm on  bank_modelling dataset with DV as a personal loan and find IDV using Random Forest Algorithm."
   ]
  },
  {
   "cell_type": "code",
   "execution_count": 1,
   "metadata": {},
   "outputs": [],
   "source": [
    "import pandas as pd\n",
    "import numpy as np\n",
    "from sklearn import tree\n",
    "from sklearn import preprocessing\n",
    "from sklearn.tree import export_graphviz\n",
    "from IPython.display import SVG\n",
    "from graphviz import Source\n",
    "from IPython.display import display"
   ]
  },
  {
   "cell_type": "markdown",
   "metadata": {},
   "source": [
    "## Random Forest"
   ]
  },
  {
   "cell_type": "code",
   "execution_count": 2,
   "metadata": {},
   "outputs": [],
   "source": [
    "from sklearn.ensemble import RandomForestClassifier"
   ]
  },
  {
   "cell_type": "code",
   "execution_count": 3,
   "metadata": {},
   "outputs": [],
   "source": [
    "# Loading bank loan dataset\n",
    "bankloan_train = pd.read_excel(\"dataset/Bank_Personal_Loan_Modelling.xlsx\",sheet_name=1)"
   ]
  },
  {
   "cell_type": "code",
   "execution_count": 4,
   "metadata": {},
   "outputs": [
    {
     "data": {
      "text/html": [
       "<div>\n",
       "<style scoped>\n",
       "    .dataframe tbody tr th:only-of-type {\n",
       "        vertical-align: middle;\n",
       "    }\n",
       "\n",
       "    .dataframe tbody tr th {\n",
       "        vertical-align: top;\n",
       "    }\n",
       "\n",
       "    .dataframe thead th {\n",
       "        text-align: right;\n",
       "    }\n",
       "</style>\n",
       "<table border=\"1\" class=\"dataframe\">\n",
       "  <thead>\n",
       "    <tr style=\"text-align: right;\">\n",
       "      <th></th>\n",
       "      <th>0</th>\n",
       "      <th>1</th>\n",
       "      <th>2</th>\n",
       "      <th>3</th>\n",
       "      <th>4</th>\n",
       "    </tr>\n",
       "  </thead>\n",
       "  <tbody>\n",
       "    <tr>\n",
       "      <th>ID</th>\n",
       "      <td>1.0</td>\n",
       "      <td>2.0</td>\n",
       "      <td>3.0</td>\n",
       "      <td>4.0</td>\n",
       "      <td>5.0</td>\n",
       "    </tr>\n",
       "    <tr>\n",
       "      <th>Age</th>\n",
       "      <td>25.0</td>\n",
       "      <td>45.0</td>\n",
       "      <td>39.0</td>\n",
       "      <td>35.0</td>\n",
       "      <td>35.0</td>\n",
       "    </tr>\n",
       "    <tr>\n",
       "      <th>Experience</th>\n",
       "      <td>1.0</td>\n",
       "      <td>19.0</td>\n",
       "      <td>15.0</td>\n",
       "      <td>9.0</td>\n",
       "      <td>8.0</td>\n",
       "    </tr>\n",
       "    <tr>\n",
       "      <th>Income</th>\n",
       "      <td>49.0</td>\n",
       "      <td>34.0</td>\n",
       "      <td>11.0</td>\n",
       "      <td>100.0</td>\n",
       "      <td>45.0</td>\n",
       "    </tr>\n",
       "    <tr>\n",
       "      <th>ZIP Code</th>\n",
       "      <td>91107.0</td>\n",
       "      <td>90089.0</td>\n",
       "      <td>94720.0</td>\n",
       "      <td>94112.0</td>\n",
       "      <td>91330.0</td>\n",
       "    </tr>\n",
       "    <tr>\n",
       "      <th>Family</th>\n",
       "      <td>4.0</td>\n",
       "      <td>3.0</td>\n",
       "      <td>1.0</td>\n",
       "      <td>1.0</td>\n",
       "      <td>4.0</td>\n",
       "    </tr>\n",
       "    <tr>\n",
       "      <th>CCAvg</th>\n",
       "      <td>1.6</td>\n",
       "      <td>1.5</td>\n",
       "      <td>1.0</td>\n",
       "      <td>2.7</td>\n",
       "      <td>1.0</td>\n",
       "    </tr>\n",
       "    <tr>\n",
       "      <th>Education</th>\n",
       "      <td>1.0</td>\n",
       "      <td>1.0</td>\n",
       "      <td>1.0</td>\n",
       "      <td>2.0</td>\n",
       "      <td>2.0</td>\n",
       "    </tr>\n",
       "    <tr>\n",
       "      <th>Mortgage</th>\n",
       "      <td>0.0</td>\n",
       "      <td>0.0</td>\n",
       "      <td>0.0</td>\n",
       "      <td>0.0</td>\n",
       "      <td>0.0</td>\n",
       "    </tr>\n",
       "    <tr>\n",
       "      <th>Personal Loan</th>\n",
       "      <td>0.0</td>\n",
       "      <td>0.0</td>\n",
       "      <td>0.0</td>\n",
       "      <td>0.0</td>\n",
       "      <td>0.0</td>\n",
       "    </tr>\n",
       "    <tr>\n",
       "      <th>Securities Account</th>\n",
       "      <td>1.0</td>\n",
       "      <td>1.0</td>\n",
       "      <td>0.0</td>\n",
       "      <td>0.0</td>\n",
       "      <td>0.0</td>\n",
       "    </tr>\n",
       "    <tr>\n",
       "      <th>CD Account</th>\n",
       "      <td>0.0</td>\n",
       "      <td>0.0</td>\n",
       "      <td>0.0</td>\n",
       "      <td>0.0</td>\n",
       "      <td>0.0</td>\n",
       "    </tr>\n",
       "    <tr>\n",
       "      <th>Online</th>\n",
       "      <td>0.0</td>\n",
       "      <td>0.0</td>\n",
       "      <td>0.0</td>\n",
       "      <td>0.0</td>\n",
       "      <td>0.0</td>\n",
       "    </tr>\n",
       "    <tr>\n",
       "      <th>CreditCard</th>\n",
       "      <td>0.0</td>\n",
       "      <td>0.0</td>\n",
       "      <td>0.0</td>\n",
       "      <td>0.0</td>\n",
       "      <td>1.0</td>\n",
       "    </tr>\n",
       "  </tbody>\n",
       "</table>\n",
       "</div>"
      ],
      "text/plain": [
       "                          0        1        2        3        4\n",
       "ID                      1.0      2.0      3.0      4.0      5.0\n",
       "Age                    25.0     45.0     39.0     35.0     35.0\n",
       "Experience              1.0     19.0     15.0      9.0      8.0\n",
       "Income                 49.0     34.0     11.0    100.0     45.0\n",
       "ZIP Code            91107.0  90089.0  94720.0  94112.0  91330.0\n",
       "Family                  4.0      3.0      1.0      1.0      4.0\n",
       "CCAvg                   1.6      1.5      1.0      2.7      1.0\n",
       "Education               1.0      1.0      1.0      2.0      2.0\n",
       "Mortgage                0.0      0.0      0.0      0.0      0.0\n",
       "Personal Loan           0.0      0.0      0.0      0.0      0.0\n",
       "Securities Account      1.0      1.0      0.0      0.0      0.0\n",
       "CD Account              0.0      0.0      0.0      0.0      0.0\n",
       "Online                  0.0      0.0      0.0      0.0      0.0\n",
       "CreditCard              0.0      0.0      0.0      0.0      1.0"
      ]
     },
     "execution_count": 4,
     "metadata": {},
     "output_type": "execute_result"
    }
   ],
   "source": [
    "bankloan_train.head().T"
   ]
  },
  {
   "cell_type": "code",
   "execution_count": 5,
   "metadata": {},
   "outputs": [
    {
     "data": {
      "text/plain": [
       "ID                    0\n",
       "Age                   0\n",
       "Experience            0\n",
       "Income                0\n",
       "ZIP Code              0\n",
       "Family                0\n",
       "CCAvg                 0\n",
       "Education             0\n",
       "Mortgage              0\n",
       "Personal Loan         0\n",
       "Securities Account    0\n",
       "CD Account            0\n",
       "Online                0\n",
       "CreditCard            0\n",
       "dtype: int64"
      ]
     },
     "execution_count": 5,
     "metadata": {},
     "output_type": "execute_result"
    }
   ],
   "source": [
    "# Finding null values\n",
    "bankloan_train.isnull().sum()\n",
    "# bankloan_train[CCAvg] = np.round(bankloan_train[CCAvg])"
   ]
  },
  {
   "cell_type": "code",
   "execution_count": 6,
   "metadata": {},
   "outputs": [
    {
     "data": {
      "text/plain": [
       "Index(['ID', 'Age', 'Experience', 'Income', 'ZIP Code', 'Family', 'CCAvg',\n",
       "       'Education', 'Mortgage', 'Personal Loan', 'Securities Account',\n",
       "       'CD Account', 'Online', 'CreditCard'],\n",
       "      dtype='object')"
      ]
     },
     "execution_count": 6,
     "metadata": {},
     "output_type": "execute_result"
    }
   ],
   "source": [
    "# Variables in bank loan dataset\n",
    "bankloan_train.columns"
   ]
  },
  {
   "cell_type": "code",
   "execution_count": 7,
   "metadata": {},
   "outputs": [],
   "source": [
    "# Initialising random forest algorithm\n",
    "rf_model = RandomForestClassifier(n_estimators=1000,max_features=2,oob_score=True)"
   ]
  },
  {
   "cell_type": "code",
   "execution_count": 8,
   "metadata": {},
   "outputs": [],
   "source": [
    "features=[\"Age\",\"Experience\",\"Income\",\"Family\",\"CCAvg\",\"Education\",\"Mortgage\",\"Securities Account\",\n",
    "         \"CD Account\",\"Online\",\"CreditCard\"]\n",
    "# dataset = dataset.drop([\"ID\",\"ZIP Code\",\"Personal Loan\"], axis=1)"
   ]
  },
  {
   "cell_type": "code",
   "execution_count": 9,
   "metadata": {},
   "outputs": [
    {
     "data": {
      "text/plain": [
       "RandomForestClassifier(bootstrap=True, ccp_alpha=0.0, class_weight=None,\n",
       "                       criterion='gini', max_depth=None, max_features=2,\n",
       "                       max_leaf_nodes=None, max_samples=None,\n",
       "                       min_impurity_decrease=0.0, min_impurity_split=None,\n",
       "                       min_samples_leaf=1, min_samples_split=2,\n",
       "                       min_weight_fraction_leaf=0.0, n_estimators=1000,\n",
       "                       n_jobs=None, oob_score=True, random_state=None,\n",
       "                       verbose=0, warm_start=False)"
      ]
     },
     "execution_count": 9,
     "metadata": {},
     "output_type": "execute_result"
    }
   ],
   "source": [
    "rf_model.fit(X=bankloan_train[features],y=bankloan_train[\"Personal Loan\"])"
   ]
  },
  {
   "cell_type": "code",
   "execution_count": 10,
   "metadata": {},
   "outputs": [
    {
     "name": "stdout",
     "output_type": "stream",
     "text": [
      "OOB Accuracy: 0.9872\n"
     ]
    }
   ],
   "source": [
    "print(\"OOB Accuracy:\", rf_model.oob_score_)"
   ]
  },
  {
   "cell_type": "code",
   "execution_count": 11,
   "metadata": {},
   "outputs": [
    {
     "name": "stdout",
     "output_type": "stream",
     "text": [
      "Age 0.04442243298788851\n",
      "Experience 0.04398381519602612\n",
      "Income 0.3441901057911898\n",
      "Family 0.0983692924222958\n",
      "CCAvg 0.1818764538178763\n",
      "Education 0.1649977827426259\n",
      "Mortgage 0.043996567487519504\n",
      "Securities Account 0.005580110446380622\n",
      "CD Account 0.05452161151583933\n",
      "Online 0.008233235982521656\n",
      "CreditCard 0.009828591609836443\n"
     ]
    }
   ],
   "source": [
    "# To find important features\n",
    "for feature,imp in zip(features,rf_model.feature_importances_):\n",
    "    print(feature,imp)"
   ]
  },
  {
   "cell_type": "markdown",
   "metadata": {},
   "source": [
    "### Most important features are Income, CCAvg and Education"
   ]
  },
  {
   "cell_type": "markdown",
   "metadata": {},
   "source": [
    "## 2. Creating Decision Tree Model"
   ]
  },
  {
   "cell_type": "code",
   "execution_count": 19,
   "metadata": {},
   "outputs": [],
   "source": [
    "# Initialising Decision Tree\n",
    "tree_model = tree.DecisionTreeClassifier(max_depth=6,max_leaf_nodes=10)\n",
    "# tree_model = tree.DecisionTreeClassifier(max_depth=8)"
   ]
  },
  {
   "cell_type": "code",
   "execution_count": 20,
   "metadata": {},
   "outputs": [],
   "source": [
    "predictors = pd.DataFrame([bankloan_train[\"Income\"],bankloan_train[\"CCAvg\"],bankloan_train[\"Education\"]]).T"
   ]
  },
  {
   "cell_type": "code",
   "execution_count": 21,
   "metadata": {},
   "outputs": [
    {
     "data": {
      "text/plain": [
       "DecisionTreeClassifier(ccp_alpha=0.0, class_weight=None, criterion='gini',\n",
       "                       max_depth=6, max_features=None, max_leaf_nodes=10,\n",
       "                       min_impurity_decrease=0.0, min_impurity_split=None,\n",
       "                       min_samples_leaf=1, min_samples_split=2,\n",
       "                       min_weight_fraction_leaf=0.0, presort='deprecated',\n",
       "                       random_state=None, splitter='best')"
      ]
     },
     "execution_count": 21,
     "metadata": {},
     "output_type": "execute_result"
    }
   ],
   "source": [
    "# Model created\n",
    "tree_model.fit(X=predictors,y=bankloan_train[\"Personal Loan\"])"
   ]
  },
  {
   "cell_type": "code",
   "execution_count": 22,
   "metadata": {},
   "outputs": [],
   "source": [
    "with open(\"Dtree_BankLoan.dot\",\"w\") as f:\n",
    "    f = tree.export_graphviz(tree_model,feature_names=[\"Income\",\"CCAvg\",\"Education\"],out_file=f)"
   ]
  },
  {
   "cell_type": "code",
   "execution_count": 23,
   "metadata": {},
   "outputs": [
    {
     "data": {
      "text/plain": [
       "0.9718"
      ]
     },
     "execution_count": 23,
     "metadata": {},
     "output_type": "execute_result"
    }
   ],
   "source": [
    "# Model accuracy\n",
    "tree_model.score(X=predictors,y=bankloan_train[\"Personal Loan\"])"
   ]
  },
  {
   "cell_type": "markdown",
   "metadata": {},
   "source": [
    "## Decision Tree"
   ]
  },
  {
   "cell_type": "code",
   "execution_count": 24,
   "metadata": {},
   "outputs": [
    {
     "name": "stdout",
     "output_type": "stream",
     "text": [
      "|--- Income <= 113.50\n",
      "|   |--- CCAvg <= 2.95\n",
      "|   |   |--- class: 0\n",
      "|   |--- CCAvg >  2.95\n",
      "|   |   |--- Income <= 82.50\n",
      "|   |   |   |--- class: 0\n",
      "|   |   |--- Income >  82.50\n",
      "|   |   |   |--- Education <= 1.50\n",
      "|   |   |   |   |--- CCAvg <= 4.25\n",
      "|   |   |   |   |   |--- class: 0\n",
      "|   |   |   |   |--- CCAvg >  4.25\n",
      "|   |   |   |   |   |--- class: 0\n",
      "|   |   |   |--- Education >  1.50\n",
      "|   |   |   |   |--- Income <= 92.50\n",
      "|   |   |   |   |   |--- class: 0\n",
      "|   |   |   |   |--- Income >  92.50\n",
      "|   |   |   |   |   |--- class: 1\n",
      "|--- Income >  113.50\n",
      "|   |--- Education <= 1.50\n",
      "|   |   |--- class: 0\n",
      "|   |--- Education >  1.50\n",
      "|   |   |--- Income <= 116.50\n",
      "|   |   |   |--- CCAvg <= 2.15\n",
      "|   |   |   |   |--- class: 0\n",
      "|   |   |   |--- CCAvg >  2.15\n",
      "|   |   |   |   |--- class: 1\n",
      "|   |   |--- Income >  116.50\n",
      "|   |   |   |--- class: 1\n",
      "\n"
     ]
    }
   ],
   "source": [
    "text_representation = tree.export_text(tree_model,feature_names=[\"Income\",\"CCAvg\",\"Education\"])\n",
    "print(text_representation)"
   ]
  },
  {
   "cell_type": "code",
   "execution_count": 25,
   "metadata": {},
   "outputs": [
    {
     "data": {
      "image/svg+xml": [
       "<svg height=\"581pt\" viewBox=\"0.00 0.00 695.00 581.00\" width=\"695pt\" xmlns=\"http://www.w3.org/2000/svg\" xmlns:xlink=\"http://www.w3.org/1999/xlink\">\n",
       "<g class=\"graph\" id=\"graph0\" transform=\"scale(1 1) rotate(0) translate(4 577)\">\n",
       "<title>Tree</title>\n",
       "<polygon fill=\"white\" points=\"-4,4 -4,-577 691,-577 691,4 -4,4\" stroke=\"none\"/>\n",
       "<!-- 0 -->\n",
       "<g class=\"node\" id=\"node1\"><title>0</title>\n",
       "<polygon fill=\"none\" points=\"394.5,-573 269.5,-573 269.5,-505 394.5,-505 394.5,-573\" stroke=\"black\"/>\n",
       "<text font-family=\"Times New Roman,serif\" font-size=\"14.00\" text-anchor=\"middle\" x=\"332\" y=\"-557.8\">Income &lt;= 113.5</text>\n",
       "<text font-family=\"Times New Roman,serif\" font-size=\"14.00\" text-anchor=\"middle\" x=\"332\" y=\"-542.8\">gini = 0.174</text>\n",
       "<text font-family=\"Times New Roman,serif\" font-size=\"14.00\" text-anchor=\"middle\" x=\"332\" y=\"-527.8\">samples = 5000</text>\n",
       "<text font-family=\"Times New Roman,serif\" font-size=\"14.00\" text-anchor=\"middle\" x=\"332\" y=\"-512.8\">value = [4520, 480]</text>\n",
       "</g>\n",
       "<!-- 1 -->\n",
       "<g class=\"node\" id=\"node2\"><title>1</title>\n",
       "<polygon fill=\"none\" points=\"323,-469 205,-469 205,-401 323,-401 323,-469\" stroke=\"black\"/>\n",
       "<text font-family=\"Times New Roman,serif\" font-size=\"14.00\" text-anchor=\"middle\" x=\"264\" y=\"-453.8\">CCAvg &lt;= 2.95</text>\n",
       "<text font-family=\"Times New Roman,serif\" font-size=\"14.00\" text-anchor=\"middle\" x=\"264\" y=\"-438.8\">gini = 0.041</text>\n",
       "<text font-family=\"Times New Roman,serif\" font-size=\"14.00\" text-anchor=\"middle\" x=\"264\" y=\"-423.8\">samples = 4021</text>\n",
       "<text font-family=\"Times New Roman,serif\" font-size=\"14.00\" text-anchor=\"middle\" x=\"264\" y=\"-408.8\">value = [3937, 84]</text>\n",
       "</g>\n",
       "<!-- 0&#45;&gt;1 -->\n",
       "<g class=\"edge\" id=\"edge1\"><title>0-&gt;1</title>\n",
       "<path d=\"M309.922,-504.884C304.162,-496.243 297.879,-486.819 291.862,-477.793\" fill=\"none\" stroke=\"black\"/>\n",
       "<polygon fill=\"black\" points=\"294.659,-475.678 286.2,-469.299 288.834,-479.561 294.659,-475.678\" stroke=\"black\"/>\n",
       "<text font-family=\"Times New Roman,serif\" font-size=\"14.00\" text-anchor=\"middle\" x=\"281.297\" y=\"-490.114\">True</text>\n",
       "</g>\n",
       "<!-- 2 -->\n",
       "<g class=\"node\" id=\"node13\"><title>2</title>\n",
       "<polygon fill=\"none\" points=\"459,-469 341,-469 341,-401 459,-401 459,-469\" stroke=\"black\"/>\n",
       "<text font-family=\"Times New Roman,serif\" font-size=\"14.00\" text-anchor=\"middle\" x=\"400\" y=\"-453.8\">Education &lt;= 1.5</text>\n",
       "<text font-family=\"Times New Roman,serif\" font-size=\"14.00\" text-anchor=\"middle\" x=\"400\" y=\"-438.8\">gini = 0.482</text>\n",
       "<text font-family=\"Times New Roman,serif\" font-size=\"14.00\" text-anchor=\"middle\" x=\"400\" y=\"-423.8\">samples = 979</text>\n",
       "<text font-family=\"Times New Roman,serif\" font-size=\"14.00\" text-anchor=\"middle\" x=\"400\" y=\"-408.8\">value = [583, 396]</text>\n",
       "</g>\n",
       "<!-- 0&#45;&gt;2 -->\n",
       "<g class=\"edge\" id=\"edge12\"><title>0-&gt;2</title>\n",
       "<path d=\"M354.078,-504.884C359.838,-496.243 366.121,-486.819 372.138,-477.793\" fill=\"none\" stroke=\"black\"/>\n",
       "<polygon fill=\"black\" points=\"375.166,-479.561 377.8,-469.299 369.341,-475.678 375.166,-479.561\" stroke=\"black\"/>\n",
       "<text font-family=\"Times New Roman,serif\" font-size=\"14.00\" text-anchor=\"middle\" x=\"382.703\" y=\"-490.114\">False</text>\n",
       "</g>\n",
       "<!-- 5 -->\n",
       "<g class=\"node\" id=\"node3\"><title>5</title>\n",
       "<polygon fill=\"none\" points=\"192,-357.5 74,-357.5 74,-304.5 192,-304.5 192,-357.5\" stroke=\"black\"/>\n",
       "<text font-family=\"Times New Roman,serif\" font-size=\"14.00\" text-anchor=\"middle\" x=\"133\" y=\"-342.3\">gini = 0.007</text>\n",
       "<text font-family=\"Times New Roman,serif\" font-size=\"14.00\" text-anchor=\"middle\" x=\"133\" y=\"-327.3\">samples = 3723</text>\n",
       "<text font-family=\"Times New Roman,serif\" font-size=\"14.00\" text-anchor=\"middle\" x=\"133\" y=\"-312.3\">value = [3710, 13]</text>\n",
       "</g>\n",
       "<!-- 1&#45;&gt;5 -->\n",
       "<g class=\"edge\" id=\"edge2\"><title>1-&gt;5</title>\n",
       "<path d=\"M221.468,-400.884C206.213,-389.006 189.056,-375.646 173.939,-363.876\" fill=\"none\" stroke=\"black\"/>\n",
       "<polygon fill=\"black\" points=\"175.816,-360.902 165.776,-357.52 171.516,-366.425 175.816,-360.902\" stroke=\"black\"/>\n",
       "</g>\n",
       "<!-- 6 -->\n",
       "<g class=\"node\" id=\"node4\"><title>6</title>\n",
       "<polygon fill=\"none\" points=\"321.5,-365 210.5,-365 210.5,-297 321.5,-297 321.5,-365\" stroke=\"black\"/>\n",
       "<text font-family=\"Times New Roman,serif\" font-size=\"14.00\" text-anchor=\"middle\" x=\"266\" y=\"-349.8\">Income &lt;= 82.5</text>\n",
       "<text font-family=\"Times New Roman,serif\" font-size=\"14.00\" text-anchor=\"middle\" x=\"266\" y=\"-334.8\">gini = 0.363</text>\n",
       "<text font-family=\"Times New Roman,serif\" font-size=\"14.00\" text-anchor=\"middle\" x=\"266\" y=\"-319.8\">samples = 298</text>\n",
       "<text font-family=\"Times New Roman,serif\" font-size=\"14.00\" text-anchor=\"middle\" x=\"266\" y=\"-304.8\">value = [227, 71]</text>\n",
       "</g>\n",
       "<!-- 1&#45;&gt;6 -->\n",
       "<g class=\"edge\" id=\"edge3\"><title>1-&gt;6</title>\n",
       "<path d=\"M264.649,-400.884C264.808,-392.778 264.981,-383.982 265.148,-375.472\" fill=\"none\" stroke=\"black\"/>\n",
       "<polygon fill=\"black\" points=\"268.65,-375.366 265.347,-365.299 261.652,-375.229 268.65,-375.366\" stroke=\"black\"/>\n",
       "</g>\n",
       "<!-- 9 -->\n",
       "<g class=\"node\" id=\"node5\"><title>9</title>\n",
       "<polygon fill=\"none\" points=\"202,-253.5 98,-253.5 98,-200.5 202,-200.5 202,-253.5\" stroke=\"black\"/>\n",
       "<text font-family=\"Times New Roman,serif\" font-size=\"14.00\" text-anchor=\"middle\" x=\"150\" y=\"-238.3\">gini = 0.142</text>\n",
       "<text font-family=\"Times New Roman,serif\" font-size=\"14.00\" text-anchor=\"middle\" x=\"150\" y=\"-223.3\">samples = 117</text>\n",
       "<text font-family=\"Times New Roman,serif\" font-size=\"14.00\" text-anchor=\"middle\" x=\"150\" y=\"-208.3\">value = [108, 9]</text>\n",
       "</g>\n",
       "<!-- 6&#45;&gt;9 -->\n",
       "<g class=\"edge\" id=\"edge4\"><title>6-&gt;9</title>\n",
       "<path d=\"M228.338,-296.884C214.955,-285.116 199.918,-271.894 186.623,-260.203\" fill=\"none\" stroke=\"black\"/>\n",
       "<polygon fill=\"black\" points=\"188.844,-257.495 179.023,-253.52 184.221,-262.752 188.844,-257.495\" stroke=\"black\"/>\n",
       "</g>\n",
       "<!-- 10 -->\n",
       "<g class=\"node\" id=\"node6\"><title>10</title>\n",
       "<polygon fill=\"none\" points=\"334,-261 220,-261 220,-193 334,-193 334,-261\" stroke=\"black\"/>\n",
       "<text font-family=\"Times New Roman,serif\" font-size=\"14.00\" text-anchor=\"middle\" x=\"277\" y=\"-245.8\">Education &lt;= 1.5</text>\n",
       "<text font-family=\"Times New Roman,serif\" font-size=\"14.00\" text-anchor=\"middle\" x=\"277\" y=\"-230.8\">gini = 0.45</text>\n",
       "<text font-family=\"Times New Roman,serif\" font-size=\"14.00\" text-anchor=\"middle\" x=\"277\" y=\"-215.8\">samples = 181</text>\n",
       "<text font-family=\"Times New Roman,serif\" font-size=\"14.00\" text-anchor=\"middle\" x=\"277\" y=\"-200.8\">value = [119, 62]</text>\n",
       "</g>\n",
       "<!-- 6&#45;&gt;10 -->\n",
       "<g class=\"edge\" id=\"edge5\"><title>6-&gt;10</title>\n",
       "<path d=\"M269.571,-296.884C270.446,-288.778 271.394,-279.982 272.312,-271.472\" fill=\"none\" stroke=\"black\"/>\n",
       "<polygon fill=\"black\" points=\"275.816,-271.617 273.409,-261.299 268.857,-270.866 275.816,-271.617\" stroke=\"black\"/>\n",
       "</g>\n",
       "<!-- 11 -->\n",
       "<g class=\"node\" id=\"node7\"><title>11</title>\n",
       "<polygon fill=\"none\" points=\"222.5,-157 115.5,-157 115.5,-89 222.5,-89 222.5,-157\" stroke=\"black\"/>\n",
       "<text font-family=\"Times New Roman,serif\" font-size=\"14.00\" text-anchor=\"middle\" x=\"169\" y=\"-141.8\">CCAvg &lt;= 4.25</text>\n",
       "<text font-family=\"Times New Roman,serif\" font-size=\"14.00\" text-anchor=\"middle\" x=\"169\" y=\"-126.8\">gini = 0.299</text>\n",
       "<text font-family=\"Times New Roman,serif\" font-size=\"14.00\" text-anchor=\"middle\" x=\"169\" y=\"-111.8\">samples = 93</text>\n",
       "<text font-family=\"Times New Roman,serif\" font-size=\"14.00\" text-anchor=\"middle\" x=\"169\" y=\"-96.8\">value = [76, 17]</text>\n",
       "</g>\n",
       "<!-- 10&#45;&gt;11 -->\n",
       "<g class=\"edge\" id=\"edge6\"><title>10-&gt;11</title>\n",
       "<path d=\"M241.935,-192.884C232.316,-183.798 221.778,-173.845 211.777,-164.4\" fill=\"none\" stroke=\"black\"/>\n",
       "<polygon fill=\"black\" points=\"213.931,-161.621 204.258,-157.299 209.125,-166.71 213.931,-161.621\" stroke=\"black\"/>\n",
       "</g>\n",
       "<!-- 12 -->\n",
       "<g class=\"node\" id=\"node10\"><title>12</title>\n",
       "<polygon fill=\"none\" points=\"347.5,-157 240.5,-157 240.5,-89 347.5,-89 347.5,-157\" stroke=\"black\"/>\n",
       "<text font-family=\"Times New Roman,serif\" font-size=\"14.00\" text-anchor=\"middle\" x=\"294\" y=\"-141.8\">Income &lt;= 92.5</text>\n",
       "<text font-family=\"Times New Roman,serif\" font-size=\"14.00\" text-anchor=\"middle\" x=\"294\" y=\"-126.8\">gini = 0.5</text>\n",
       "<text font-family=\"Times New Roman,serif\" font-size=\"14.00\" text-anchor=\"middle\" x=\"294\" y=\"-111.8\">samples = 88</text>\n",
       "<text font-family=\"Times New Roman,serif\" font-size=\"14.00\" text-anchor=\"middle\" x=\"294\" y=\"-96.8\">value = [43, 45]</text>\n",
       "</g>\n",
       "<!-- 10&#45;&gt;12 -->\n",
       "<g class=\"edge\" id=\"edge9\"><title>10-&gt;12</title>\n",
       "<path d=\"M282.519,-192.884C283.885,-184.689 285.369,-175.789 286.801,-167.192\" fill=\"none\" stroke=\"black\"/>\n",
       "<polygon fill=\"black\" points=\"290.258,-167.739 288.45,-157.299 283.354,-166.588 290.258,-167.739\" stroke=\"black\"/>\n",
       "</g>\n",
       "<!-- 15 -->\n",
       "<g class=\"node\" id=\"node8\"><title>15</title>\n",
       "<polygon fill=\"none\" points=\"104,-53 0,-53 0,-0 104,-0 104,-53\" stroke=\"black\"/>\n",
       "<text font-family=\"Times New Roman,serif\" font-size=\"14.00\" text-anchor=\"middle\" x=\"52\" y=\"-37.8\">gini = 0.44</text>\n",
       "<text font-family=\"Times New Roman,serif\" font-size=\"14.00\" text-anchor=\"middle\" x=\"52\" y=\"-22.8\">samples = 46</text>\n",
       "<text font-family=\"Times New Roman,serif\" font-size=\"14.00\" text-anchor=\"middle\" x=\"52\" y=\"-7.8\">value = [31, 15]</text>\n",
       "</g>\n",
       "<!-- 11&#45;&gt;15 -->\n",
       "<g class=\"edge\" id=\"edge7\"><title>11-&gt;15</title>\n",
       "<path d=\"M128.079,-88.9485C116.3,-79.4346 103.473,-69.074 91.7646,-59.6175\" fill=\"none\" stroke=\"black\"/>\n",
       "<polygon fill=\"black\" points=\"93.8431,-56.7973 83.8645,-53.2367 89.4447,-62.2429 93.8431,-56.7973\" stroke=\"black\"/>\n",
       "</g>\n",
       "<!-- 16 -->\n",
       "<g class=\"node\" id=\"node9\"><title>16</title>\n",
       "<polygon fill=\"none\" points=\"220,-53 122,-53 122,-0 220,-0 220,-53\" stroke=\"black\"/>\n",
       "<text font-family=\"Times New Roman,serif\" font-size=\"14.00\" text-anchor=\"middle\" x=\"171\" y=\"-37.8\">gini = 0.081</text>\n",
       "<text font-family=\"Times New Roman,serif\" font-size=\"14.00\" text-anchor=\"middle\" x=\"171\" y=\"-22.8\">samples = 47</text>\n",
       "<text font-family=\"Times New Roman,serif\" font-size=\"14.00\" text-anchor=\"middle\" x=\"171\" y=\"-7.8\">value = [45, 2]</text>\n",
       "</g>\n",
       "<!-- 11&#45;&gt;16 -->\n",
       "<g class=\"edge\" id=\"edge8\"><title>11-&gt;16</title>\n",
       "<path d=\"M169.7,-88.9485C169.874,-80.7153 170.061,-71.848 170.238,-63.4814\" fill=\"none\" stroke=\"black\"/>\n",
       "<polygon fill=\"black\" points=\"173.743,-63.3086 170.455,-53.2367 166.744,-63.1604 173.743,-63.3086\" stroke=\"black\"/>\n",
       "</g>\n",
       "<!-- 13 -->\n",
       "<g class=\"node\" id=\"node11\"><title>13</title>\n",
       "<polygon fill=\"none\" points=\"345,-53 241,-53 241,-0 345,-0 345,-53\" stroke=\"black\"/>\n",
       "<text font-family=\"Times New Roman,serif\" font-size=\"14.00\" text-anchor=\"middle\" x=\"293\" y=\"-37.8\">gini = 0.388</text>\n",
       "<text font-family=\"Times New Roman,serif\" font-size=\"14.00\" text-anchor=\"middle\" x=\"293\" y=\"-22.8\">samples = 38</text>\n",
       "<text font-family=\"Times New Roman,serif\" font-size=\"14.00\" text-anchor=\"middle\" x=\"293\" y=\"-7.8\">value = [28, 10]</text>\n",
       "</g>\n",
       "<!-- 12&#45;&gt;13 -->\n",
       "<g class=\"edge\" id=\"edge10\"><title>12-&gt;13</title>\n",
       "<path d=\"M293.65,-88.9485C293.563,-80.7153 293.469,-71.848 293.381,-63.4814\" fill=\"none\" stroke=\"black\"/>\n",
       "<polygon fill=\"black\" points=\"296.878,-63.1991 293.272,-53.2367 289.878,-63.2732 296.878,-63.1991\" stroke=\"black\"/>\n",
       "</g>\n",
       "<!-- 14 -->\n",
       "<g class=\"node\" id=\"node12\"><title>14</title>\n",
       "<polygon fill=\"none\" points=\"467,-53 363,-53 363,-0 467,-0 467,-53\" stroke=\"black\"/>\n",
       "<text font-family=\"Times New Roman,serif\" font-size=\"14.00\" text-anchor=\"middle\" x=\"415\" y=\"-37.8\">gini = 0.42</text>\n",
       "<text font-family=\"Times New Roman,serif\" font-size=\"14.00\" text-anchor=\"middle\" x=\"415\" y=\"-22.8\">samples = 50</text>\n",
       "<text font-family=\"Times New Roman,serif\" font-size=\"14.00\" text-anchor=\"middle\" x=\"415\" y=\"-7.8\">value = [15, 35]</text>\n",
       "</g>\n",
       "<!-- 12&#45;&gt;14 -->\n",
       "<g class=\"edge\" id=\"edge11\"><title>12-&gt;14</title>\n",
       "<path d=\"M336.32,-88.9485C348.502,-79.4346 361.768,-69.074 373.876,-59.6175\" fill=\"none\" stroke=\"black\"/>\n",
       "<polygon fill=\"black\" points=\"376.319,-62.1504 382.046,-53.2367 372.011,-56.6335 376.319,-62.1504\" stroke=\"black\"/>\n",
       "</g>\n",
       "<!-- 3 -->\n",
       "<g class=\"node\" id=\"node14\"><title>3</title>\n",
       "<polygon fill=\"none\" points=\"453.5,-357.5 342.5,-357.5 342.5,-304.5 453.5,-304.5 453.5,-357.5\" stroke=\"black\"/>\n",
       "<text font-family=\"Times New Roman,serif\" font-size=\"14.00\" text-anchor=\"middle\" x=\"398\" y=\"-342.3\">gini = 0.194</text>\n",
       "<text font-family=\"Times New Roman,serif\" font-size=\"14.00\" text-anchor=\"middle\" x=\"398\" y=\"-327.3\">samples = 635</text>\n",
       "<text font-family=\"Times New Roman,serif\" font-size=\"14.00\" text-anchor=\"middle\" x=\"398\" y=\"-312.3\">value = [566, 69]</text>\n",
       "</g>\n",
       "<!-- 2&#45;&gt;3 -->\n",
       "<g class=\"edge\" id=\"edge13\"><title>2-&gt;3</title>\n",
       "<path d=\"M399.351,-400.884C399.141,-390.216 398.909,-378.352 398.696,-367.519\" fill=\"none\" stroke=\"black\"/>\n",
       "<polygon fill=\"black\" points=\"402.196,-367.449 398.5,-357.52 395.197,-367.587 402.196,-367.449\" stroke=\"black\"/>\n",
       "</g>\n",
       "<!-- 4 -->\n",
       "<g class=\"node\" id=\"node15\"><title>4</title>\n",
       "<polygon fill=\"none\" points=\"584.5,-365 471.5,-365 471.5,-297 584.5,-297 584.5,-365\" stroke=\"black\"/>\n",
       "<text font-family=\"Times New Roman,serif\" font-size=\"14.00\" text-anchor=\"middle\" x=\"528\" y=\"-349.8\">Income &lt;= 116.5</text>\n",
       "<text font-family=\"Times New Roman,serif\" font-size=\"14.00\" text-anchor=\"middle\" x=\"528\" y=\"-334.8\">gini = 0.094</text>\n",
       "<text font-family=\"Times New Roman,serif\" font-size=\"14.00\" text-anchor=\"middle\" x=\"528\" y=\"-319.8\">samples = 344</text>\n",
       "<text font-family=\"Times New Roman,serif\" font-size=\"14.00\" text-anchor=\"middle\" x=\"528\" y=\"-304.8\">value = [17, 327]</text>\n",
       "</g>\n",
       "<!-- 2&#45;&gt;4 -->\n",
       "<g class=\"edge\" id=\"edge14\"><title>2-&gt;4</title>\n",
       "<path d=\"M441.558,-400.884C453.295,-391.531 466.184,-381.259 478.346,-371.568\" fill=\"none\" stroke=\"black\"/>\n",
       "<polygon fill=\"black\" points=\"480.573,-374.269 486.213,-365.299 476.211,-368.794 480.573,-374.269\" stroke=\"black\"/>\n",
       "</g>\n",
       "<!-- 7 -->\n",
       "<g class=\"node\" id=\"node16\"><title>7</title>\n",
       "<polygon fill=\"none\" points=\"564.5,-261 457.5,-261 457.5,-193 564.5,-193 564.5,-261\" stroke=\"black\"/>\n",
       "<text font-family=\"Times New Roman,serif\" font-size=\"14.00\" text-anchor=\"middle\" x=\"511\" y=\"-245.8\">CCAvg &lt;= 2.15</text>\n",
       "<text font-family=\"Times New Roman,serif\" font-size=\"14.00\" text-anchor=\"middle\" x=\"511\" y=\"-230.8\">gini = 0.491</text>\n",
       "<text font-family=\"Times New Roman,serif\" font-size=\"14.00\" text-anchor=\"middle\" x=\"511\" y=\"-215.8\">samples = 30</text>\n",
       "<text font-family=\"Times New Roman,serif\" font-size=\"14.00\" text-anchor=\"middle\" x=\"511\" y=\"-200.8\">value = [17, 13]</text>\n",
       "</g>\n",
       "<!-- 4&#45;&gt;7 -->\n",
       "<g class=\"edge\" id=\"edge15\"><title>4-&gt;7</title>\n",
       "<path d=\"M522.481,-296.884C521.115,-288.689 519.631,-279.789 518.199,-271.192\" fill=\"none\" stroke=\"black\"/>\n",
       "<polygon fill=\"black\" points=\"521.646,-270.588 516.55,-261.299 514.742,-271.739 521.646,-270.588\" stroke=\"black\"/>\n",
       "</g>\n",
       "<!-- 8 -->\n",
       "<g class=\"node\" id=\"node19\"><title>8</title>\n",
       "<polygon fill=\"none\" points=\"687,-253.5 583,-253.5 583,-200.5 687,-200.5 687,-253.5\" stroke=\"black\"/>\n",
       "<text font-family=\"Times New Roman,serif\" font-size=\"14.00\" text-anchor=\"middle\" x=\"635\" y=\"-238.3\">gini = 0.0</text>\n",
       "<text font-family=\"Times New Roman,serif\" font-size=\"14.00\" text-anchor=\"middle\" x=\"635\" y=\"-223.3\">samples = 314</text>\n",
       "<text font-family=\"Times New Roman,serif\" font-size=\"14.00\" text-anchor=\"middle\" x=\"635\" y=\"-208.3\">value = [0, 314]</text>\n",
       "</g>\n",
       "<!-- 4&#45;&gt;8 -->\n",
       "<g class=\"edge\" id=\"edge18\"><title>4-&gt;8</title>\n",
       "<path d=\"M562.74,-296.884C574.969,-285.226 588.696,-272.141 600.874,-260.532\" fill=\"none\" stroke=\"black\"/>\n",
       "<polygon fill=\"black\" points=\"603.406,-262.953 608.229,-253.52 598.576,-257.887 603.406,-262.953\" stroke=\"black\"/>\n",
       "</g>\n",
       "<!-- 17 -->\n",
       "<g class=\"node\" id=\"node17\"><title>17</title>\n",
       "<polygon fill=\"none\" points=\"498,-149.5 400,-149.5 400,-96.5 498,-96.5 498,-149.5\" stroke=\"black\"/>\n",
       "<text font-family=\"Times New Roman,serif\" font-size=\"14.00\" text-anchor=\"middle\" x=\"449\" y=\"-134.3\">gini = 0.26</text>\n",
       "<text font-family=\"Times New Roman,serif\" font-size=\"14.00\" text-anchor=\"middle\" x=\"449\" y=\"-119.3\">samples = 13</text>\n",
       "<text font-family=\"Times New Roman,serif\" font-size=\"14.00\" text-anchor=\"middle\" x=\"449\" y=\"-104.3\">value = [11, 2]</text>\n",
       "</g>\n",
       "<!-- 7&#45;&gt;17 -->\n",
       "<g class=\"edge\" id=\"edge16\"><title>7-&gt;17</title>\n",
       "<path d=\"M490.87,-192.884C484.119,-181.776 476.579,-169.372 469.778,-158.184\" fill=\"none\" stroke=\"black\"/>\n",
       "<polygon fill=\"black\" points=\"472.697,-156.247 464.512,-149.52 466.715,-159.883 472.697,-156.247\" stroke=\"black\"/>\n",
       "</g>\n",
       "<!-- 18 -->\n",
       "<g class=\"node\" id=\"node18\"><title>18</title>\n",
       "<polygon fill=\"none\" points=\"614,-149.5 516,-149.5 516,-96.5 614,-96.5 614,-149.5\" stroke=\"black\"/>\n",
       "<text font-family=\"Times New Roman,serif\" font-size=\"14.00\" text-anchor=\"middle\" x=\"565\" y=\"-134.3\">gini = 0.457</text>\n",
       "<text font-family=\"Times New Roman,serif\" font-size=\"14.00\" text-anchor=\"middle\" x=\"565\" y=\"-119.3\">samples = 17</text>\n",
       "<text font-family=\"Times New Roman,serif\" font-size=\"14.00\" text-anchor=\"middle\" x=\"565\" y=\"-104.3\">value = [6, 11]</text>\n",
       "</g>\n",
       "<!-- 7&#45;&gt;18 -->\n",
       "<g class=\"edge\" id=\"edge17\"><title>7-&gt;18</title>\n",
       "<path d=\"M528.532,-192.884C534.355,-181.886 540.85,-169.617 546.727,-158.517\" fill=\"none\" stroke=\"black\"/>\n",
       "<polygon fill=\"black\" points=\"549.904,-159.995 551.489,-149.52 543.717,-156.72 549.904,-159.995\" stroke=\"black\"/>\n",
       "</g>\n",
       "</g>\n",
       "</svg>"
      ],
      "text/plain": [
       "<IPython.core.display.SVG object>"
      ]
     },
     "metadata": {},
     "output_type": "display_data"
    }
   ],
   "source": [
    "graph = Source(tree.export_graphviz(tree_model,feature_names=[\"Income\",\"CCAvg\",\"Education\"],out_file=f))\n",
    "\n",
    "display(SVG(graph.pipe(format='svg')))"
   ]
  },
  {
   "cell_type": "code",
   "execution_count": null,
   "metadata": {},
   "outputs": [],
   "source": []
  }
 ],
 "metadata": {
  "kernelspec": {
   "display_name": "Python 3",
   "language": "python",
   "name": "python3"
  },
  "language_info": {
   "codemirror_mode": {
    "name": "ipython",
    "version": 3
   },
   "file_extension": ".py",
   "mimetype": "text/x-python",
   "name": "python",
   "nbconvert_exporter": "python",
   "pygments_lexer": "ipython3",
   "version": "3.7.6"
  },
  "toc": {
   "base_numbering": 1,
   "nav_menu": {},
   "number_sections": true,
   "sideBar": true,
   "skip_h1_title": false,
   "title_cell": "Table of Contents",
   "title_sidebar": "Contents",
   "toc_cell": false,
   "toc_position": {},
   "toc_section_display": true,
   "toc_window_display": false
  }
 },
 "nbformat": 4,
 "nbformat_minor": 4
}
