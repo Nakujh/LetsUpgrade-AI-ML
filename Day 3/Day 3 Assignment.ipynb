{
 "cells": [
  {
   "cell_type": "markdown",
   "metadata": {},
   "source": [
    "1. Program to subtract two complex numbers"
   ]
  },
  {
   "cell_type": "code",
   "execution_count": 1,
   "metadata": {},
   "outputs": [
    {
     "name": "stdout",
     "output_type": "stream",
     "text": [
      "Difference of complex numbers (4+5j) and (6+6j) is (-2-1j) .\n"
     ]
    }
   ],
   "source": [
    "# Initialising variables with complex numbers\n",
    "cnMinuend    = 4 + 5j\n",
    "cnSubtrahend = 6 + 6j\n",
    "\n",
    "# Subtracting above complex numbers\n",
    "cnDifference = cnMinuend - cnSubtrahend\n",
    "\n",
    "print(\"Difference of complex numbers\", cnMinuend, \"and\", cnSubtrahend, \"is\", cnDifference, \".\")"
   ]
  },
  {
   "cell_type": "markdown",
   "metadata": {},
   "source": [
    "2. Program to find fourth root of a number"
   ]
  },
  {
   "cell_type": "code",
   "execution_count": 2,
   "metadata": {},
   "outputs": [
    {
     "name": "stdout",
     "output_type": "stream",
     "text": [
      "Fourth root of 6 is 1.5650845800732873\n"
     ]
    }
   ],
   "source": [
    "# Initialising variable with value for which fourth root needs to be determined\n",
    "iNumber = 6\n",
    "\n",
    "# Calculating fourth root of fNumber\n",
    "fRootValue = iNumber**0.25\n",
    "\n",
    "print(\"Fourth root of\", iNumber,\"is\", fRootValue) "
   ]
  },
  {
   "cell_type": "markdown",
   "metadata": {},
   "source": [
    "3. Swap two numbers in Python with the help of a temporary variable."
   ]
  },
  {
   "cell_type": "code",
   "execution_count": 3,
   "metadata": {},
   "outputs": [
    {
     "name": "stdout",
     "output_type": "stream",
     "text": [
      "Numbers before swapping are 4 and 6\n",
      "Numbers after swapping are 6 and 4\n"
     ]
    }
   ],
   "source": [
    "# Initialising variables with values to be swapped\n",
    "iLeftNumber  = 4\n",
    "iRightNumber = 6\n",
    "\n",
    "print(\"Numbers before swapping are\", iLeftNumber, \"and\", iRightNumber)\n",
    "\n",
    "# Swapping the values using temporary variable\n",
    "iTemporaryNumber = iRightNumber\n",
    "iRightNumber     = iLeftNumber\n",
    "iLeftNumber      = iTemporaryNumber\n",
    "\n",
    "print(\"Numbers after swapping are\", iLeftNumber, \"and\", iRightNumber)"
   ]
  },
  {
   "cell_type": "markdown",
   "metadata": {},
   "source": [
    "4. Swap two numbers in Python without the help of a temporary variable."
   ]
  },
  {
   "cell_type": "code",
   "execution_count": 4,
   "metadata": {},
   "outputs": [
    {
     "name": "stdout",
     "output_type": "stream",
     "text": [
      "Numbers before swapping are 4 and 6\n",
      "Numbers after swapping are 6 and 4\n"
     ]
    }
   ],
   "source": [
    "# Initialising variables with values to be swapped\n",
    "iLeftNumber  = 4\n",
    "iRightNumber = 6\n",
    "\n",
    "print(\"Numbers before swapping are\", iLeftNumber, \"and\", iRightNumber)\n",
    "\n",
    "# Swapping the values using Python's in-built functionality\n",
    "iLeftNumber, iRightNumber = iRightNumber, iLeftNumber\n",
    "\n",
    "print(\"Numbers after swapping are\", iLeftNumber, \"and\", iRightNumber)"
   ]
  },
  {
   "cell_type": "markdown",
   "metadata": {},
   "source": [
    "5. Convert Fahrenheit to Kelvin and Celsius both."
   ]
  },
  {
   "cell_type": "code",
   "execution_count": 5,
   "metadata": {},
   "outputs": [
    {
     "name": "stdout",
     "output_type": "stream",
     "text": [
      "Equivalent of Fahrenheit value in Kelvin:\n",
      "32.8 °F = 273.59444444444443 K\n",
      "Equivalent of Fahrenheit value in Celsius:\n",
      "32.8 °F = 0.44444444444444287 °C\n"
     ]
    }
   ],
   "source": [
    "# Initialising Fahrenheit value\n",
    "fFahrenheitValue = 32.8\n",
    "\n",
    "# Converting Fahrenheit to Celsius\n",
    "fCelsiusValue = (fFahrenheitValue - 32) * 5/9\n",
    "\n",
    "# Converting Fahrenheit to Kelvin\n",
    "fKelvinValue = fCelsiusValue + 273.15\n",
    "\n",
    "print(\"Equivalent of Fahrenheit value in Kelvin:\")\n",
    "print(fFahrenheitValue, \"\\N{DEGREE SIGN}F =\", fKelvinValue, \"K\")\n",
    "print(\"Equivalent of Fahrenheit value in Celsius:\")\n",
    "print(fFahrenheitValue, \"\\N{DEGREE SIGN}F =\", fCelsiusValue, \"\\N{DEGREE SIGN}C\")\n"
   ]
  },
  {
   "cell_type": "markdown",
   "metadata": {},
   "source": [
    "6. Program to demonstrate all the available data types in Python."
   ]
  },
  {
   "cell_type": "code",
   "execution_count": 6,
   "metadata": {},
   "outputs": [
    {
     "name": "stdout",
     "output_type": "stream",
     "text": [
      "Dataypes in Python:\n",
      "\n",
      " <class 'str'> Python\n",
      "\n",
      " <class 'int'> 1\n",
      "\n",
      " <class 'float'> 0.5\n",
      "\n",
      " <class 'complex'> (4-3.2j)\n",
      "\n",
      " <class 'list'> ['IDLE', 'Jupyter Notebook', 'Google Colab', 'Kaggle']\n",
      "\n",
      " <class 'tuple'> ('IDLE', 'Jupyter Notebook', 'Google Colab', 'Kaggle')\n",
      "\n",
      " <class 'dict'> {'Offline': 'Jupyter Notebook', 'Online': 'Google Colab'}\n",
      "\n",
      " <class 'set'> {'Online = Google Colab', 'Offline = Jupyter Notebook'}\n"
     ]
    }
   ],
   "source": [
    "# Initialising String\n",
    "sValue = \"Python\"\n",
    "\n",
    "# Initialising Numbers\n",
    "# Initialising int\n",
    "iValue = 1\n",
    "# Initialising float\n",
    "fValue = iValue/2\n",
    "#Initialising Complex number\n",
    "cnValue = 4 - 3.2j\n",
    "\n",
    "# Initialising List\n",
    "lstValue = [\"IDLE\", \"Jupyter Notebook\", \"Google Colab\", \"Kaggle\"]\n",
    "\n",
    "# Initialising Tuple\n",
    "tupValue = (\"IDLE\", \"Jupyter Notebook\", \"Google Colab\", \"Kaggle\")\n",
    "\n",
    "# Initialising Dictionary\n",
    "dctValue = {\"Offline\" : \"Jupyter Notebook\", \"Online\" : \"Google Colab\"}\n",
    "\n",
    "# Initialising Set\n",
    "stValue = {\"Offline = Jupyter Notebook\", \"Online = Google Colab\"}\n",
    "\n",
    "print(\"Dataypes in Python:\")\n",
    "print(\"\\n\", type(sValue),    sValue)\n",
    "print(\"\\n\", type(iValue),    iValue)\n",
    "print(\"\\n\", type(fValue),    fValue)\n",
    "print(\"\\n\", type(cnValue),   cnValue)\n",
    "print(\"\\n\", type(lstValue),  lstValue)\n",
    "print(\"\\n\", type(tupValue),  tupValue)\n",
    "print(\"\\n\", type(dctValue),  dctValue)\n",
    "print(\"\\n\", type(stValue),   stValue)\n",
    "\n"
   ]
  },
  {
   "cell_type": "markdown",
   "metadata": {},
   "source": [
    "7. Steps discussed in the session by Dr. Darshan\n",
    "Ingle sir to create Github profile and upload Github's Assignment link."
   ]
  },
  {
   "cell_type": "markdown",
   "metadata": {},
   "source": [
    "## Steps to submit assignment\n",
    "\n",
    ">1. Create a Github public repository and name it **\"LetsUpgrade AI/ML\"**\n",
    ">> Note: Create a Github profile if you do not have one.\n",
    ">2. Upload the files/solution in the repository in day wise manner.\n",
    ">3. Copy the *URL* of the Folder of that day and paste in the Assignment Submission Form (*Google Form*).\n",
    ">4. Make sure you are filling correct details in the Assignment Submission Form like ***Registered e-mail, Assignment Number etc***.\n",
    ">5. All the drop-downs will be available till the week end only, i.e, Previous weeks drop-down will disappear on each *Sunday 11:59 PM IST*.\n",
    ">6. You have to submit all the assignment given during the weekdays by respective *Sunday 11:59 PM IST*."
   ]
  }
 ],
 "metadata": {
  "kernelspec": {
   "display_name": "Python 3",
   "language": "python",
   "name": "python3"
  },
  "language_info": {
   "codemirror_mode": {
    "name": "ipython",
    "version": 3
   },
   "file_extension": ".py",
   "mimetype": "text/x-python",
   "name": "python",
   "nbconvert_exporter": "python",
   "pygments_lexer": "ipython3",
   "version": "3.7.6"
  }
 },
 "nbformat": 4,
 "nbformat_minor": 4
}
