{
 "cells": [
  {
   "cell_type": "code",
   "execution_count": 6,
   "metadata": {},
   "outputs": [],
   "source": [
    "import pickle\n",
    "import numpy as np\n",
    "model2 =pickle.load(open('RestaurantReviewSentimentAnalyzer.pkl','rb'))\n",
    "vectorizer = pickle.load(open(\"SentimentVectorizer.pkl\", 'rb'))  "
   ]
  },
  {
   "cell_type": "code",
   "execution_count": 11,
   "metadata": {},
   "outputs": [
    {
     "name": "stdout",
     "output_type": "stream",
     "text": [
      "Enter a sentence?bad\n",
      "Review is Negative\n"
     ]
    }
   ],
   "source": [
    "Review = input(\"Enter a sentence?\") \n",
    "input1 = [Review]\n",
    "\n",
    "input_data = vectorizer.transform(input1)\n",
    "\n",
    "input_pred = model2.predict(input_data.toarray())\n",
    "\n",
    "if input_pred[0]==1: \n",
    "    print(\"Review is Positive\") \n",
    "else: \n",
    "    print(\"Review is Negative\")"
   ]
  }
 ],
 "metadata": {
  "kernelspec": {
   "display_name": "Python 3",
   "language": "python",
   "name": "python3"
  },
  "language_info": {
   "codemirror_mode": {
    "name": "ipython",
    "version": 3
   },
   "file_extension": ".py",
   "mimetype": "text/x-python",
   "name": "python",
   "nbconvert_exporter": "python",
   "pygments_lexer": "ipython3",
   "version": "3.7.6"
  },
  "toc": {
   "base_numbering": 1,
   "nav_menu": {},
   "number_sections": true,
   "sideBar": true,
   "skip_h1_title": false,
   "title_cell": "Table of Contents",
   "title_sidebar": "Contents",
   "toc_cell": false,
   "toc_position": {},
   "toc_section_display": true,
   "toc_window_display": false
  }
 },
 "nbformat": 4,
 "nbformat_minor": 4
}
